{
 "cells": [
  {
   "cell_type": "code",
   "execution_count": 1,
   "metadata": {},
   "outputs": [],
   "source": [
    "import os\n",
    "import openeye.oechem as oechem\n",
    "import qcportal as ptl\n",
    "import qcelemental as qcel\n",
    "import cmiles"
   ]
  },
  {
   "cell_type": "markdown",
   "metadata": {},
   "source": [
    "## Explore the dataset"
   ]
  },
  {
   "cell_type": "code",
   "execution_count": 2,
   "metadata": {},
   "outputs": [
    {
     "data": {
      "text/html": [
       "<div>\n",
       "<style scoped>\n",
       "    .dataframe tbody tr th:only-of-type {\n",
       "        vertical-align: middle;\n",
       "    }\n",
       "\n",
       "    .dataframe tbody tr th {\n",
       "        vertical-align: top;\n",
       "    }\n",
       "\n",
       "    .dataframe thead th {\n",
       "        text-align: right;\n",
       "    }\n",
       "</style>\n",
       "<table border=\"1\" class=\"dataframe\">\n",
       "  <thead>\n",
       "    <tr style=\"text-align: right;\">\n",
       "      <th></th>\n",
       "      <th></th>\n",
       "      <th>tagline</th>\n",
       "    </tr>\n",
       "    <tr>\n",
       "      <th>collection</th>\n",
       "      <th>name</th>\n",
       "      <th></th>\n",
       "    </tr>\n",
       "  </thead>\n",
       "  <tbody>\n",
       "    <tr>\n",
       "      <th rowspan=\"5\" valign=\"top\">Dataset</th>\n",
       "      <th>GDB13-T</th>\n",
       "      <td>In progress</td>\n",
       "    </tr>\n",
       "    <tr>\n",
       "      <th>OpenFF Discrepancy Benchmark 1</th>\n",
       "      <td>None</td>\n",
       "    </tr>\n",
       "    <tr>\n",
       "      <th>OpenFF NCI250K Boron 1</th>\n",
       "      <td>None</td>\n",
       "    </tr>\n",
       "    <tr>\n",
       "      <th>OpenFF Optimization Set 1</th>\n",
       "      <td>None</td>\n",
       "    </tr>\n",
       "    <tr>\n",
       "      <th>OpenFF VEHICLe Set 1</th>\n",
       "      <td>None</td>\n",
       "    </tr>\n",
       "    <tr>\n",
       "      <th>...</th>\n",
       "      <th>...</th>\n",
       "      <td>...</td>\n",
       "    </tr>\n",
       "    <tr>\n",
       "      <th rowspan=\"5\" valign=\"top\">TorsionDriveDataset</th>\n",
       "      <th>OpenFF Group1 Torsions</th>\n",
       "      <td>None</td>\n",
       "    </tr>\n",
       "    <tr>\n",
       "      <th>OpenFF Primary TorsionDrive Benchmark 1</th>\n",
       "      <td>None</td>\n",
       "    </tr>\n",
       "    <tr>\n",
       "      <th>OpenFF Substituted Phenyl Set 1</th>\n",
       "      <td>None</td>\n",
       "    </tr>\n",
       "    <tr>\n",
       "      <th>Pfizer Discrepancy Torsion Dataset 1</th>\n",
       "      <td>None</td>\n",
       "    </tr>\n",
       "    <tr>\n",
       "      <th>SMIRNOFF Coverage Torsion Set 1</th>\n",
       "      <td>None</td>\n",
       "    </tr>\n",
       "  </tbody>\n",
       "</table>\n",
       "<p>70 rows × 1 columns</p>\n",
       "</div>"
      ],
      "text/plain": [
       "                                                                 tagline\n",
       "collection          name                                                \n",
       "Dataset             GDB13-T                                  In progress\n",
       "                    OpenFF Discrepancy Benchmark 1                  None\n",
       "                    OpenFF NCI250K Boron 1                          None\n",
       "                    OpenFF Optimization Set 1                       None\n",
       "                    OpenFF VEHICLe Set 1                            None\n",
       "...                                                                  ...\n",
       "TorsionDriveDataset OpenFF Group1 Torsions                          None\n",
       "                    OpenFF Primary TorsionDrive Benchmark 1         None\n",
       "                    OpenFF Substituted Phenyl Set 1                 None\n",
       "                    Pfizer Discrepancy Torsion Dataset 1            None\n",
       "                    SMIRNOFF Coverage Torsion Set 1                 None\n",
       "\n",
       "[70 rows x 1 columns]"
      ]
     },
     "execution_count": 2,
     "metadata": {},
     "output_type": "execute_result"
    }
   ],
   "source": [
    "# view collections in QCArchive\n",
    "client = ptl.FractalClient()\n",
    "client.list_collections()"
   ]
  },
  {
   "cell_type": "code",
   "execution_count": 3,
   "metadata": {},
   "outputs": [],
   "source": [
    "# pull the collection of interest\n",
    "ds = client.get_collection('OptimizationDataset', 'OpenFF Full Optimization Benchmark 1')"
   ]
  },
  {
   "cell_type": "code",
   "execution_count": 4,
   "metadata": {},
   "outputs": [
    {
     "data": {
      "text/html": [
       "<div>\n",
       "<style scoped>\n",
       "    .dataframe tbody tr th:only-of-type {\n",
       "        vertical-align: middle;\n",
       "    }\n",
       "\n",
       "    .dataframe tbody tr th {\n",
       "        vertical-align: top;\n",
       "    }\n",
       "\n",
       "    .dataframe thead th {\n",
       "        text-align: right;\n",
       "    }\n",
       "</style>\n",
       "<table border=\"1\" class=\"dataframe\">\n",
       "  <thead>\n",
       "    <tr style=\"text-align: right;\">\n",
       "      <th></th>\n",
       "      <th>Description</th>\n",
       "    </tr>\n",
       "    <tr>\n",
       "      <th>Name</th>\n",
       "      <th></th>\n",
       "    </tr>\n",
       "  </thead>\n",
       "  <tbody>\n",
       "    <tr>\n",
       "      <th>default</th>\n",
       "      <td>Standard OpenFF optimization quantum chemistry...</td>\n",
       "    </tr>\n",
       "  </tbody>\n",
       "</table>\n",
       "</div>"
      ],
      "text/plain": [
       "                                               Description\n",
       "Name                                                      \n",
       "default  Standard OpenFF optimization quantum chemistry..."
      ]
     },
     "execution_count": 4,
     "metadata": {},
     "output_type": "execute_result"
    }
   ],
   "source": [
    "# view details about group type\n",
    "ds.list_specifications()"
   ]
  },
  {
   "cell_type": "code",
   "execution_count": 5,
   "metadata": {},
   "outputs": [
    {
     "name": "stdout",
     "output_type": "stream",
     "text": [
      "default\n"
     ]
    }
   ],
   "source": [
    "spec = ds.list_specifications().index[0]\n",
    "print(spec)"
   ]
  },
  {
   "cell_type": "code",
   "execution_count": 6,
   "metadata": {},
   "outputs": [
    {
     "data": {
      "text/plain": [
       "'Standard OpenFF optimization quantum chemistry specification.'"
      ]
     },
     "execution_count": 6,
     "metadata": {},
     "output_type": "execute_result"
    }
   ],
   "source": [
    "ds.list_specifications().iloc[0]['Description']"
   ]
  },
  {
   "cell_type": "code",
   "execution_count": 7,
   "metadata": {},
   "outputs": [
    {
     "data": {
      "text/html": [
       "<div>\n",
       "<style scoped>\n",
       "    .dataframe tbody tr th:only-of-type {\n",
       "        vertical-align: middle;\n",
       "    }\n",
       "\n",
       "    .dataframe tbody tr th {\n",
       "        vertical-align: top;\n",
       "    }\n",
       "\n",
       "    .dataframe thead th {\n",
       "        text-align: right;\n",
       "    }\n",
       "</style>\n",
       "<table border=\"1\" class=\"dataframe\">\n",
       "  <thead>\n",
       "    <tr style=\"text-align: right;\">\n",
       "      <th></th>\n",
       "      <th>default</th>\n",
       "    </tr>\n",
       "  </thead>\n",
       "  <tbody>\n",
       "    <tr>\n",
       "      <th>COMPLETE</th>\n",
       "      <td>26313</td>\n",
       "    </tr>\n",
       "    <tr>\n",
       "      <th>ERROR</th>\n",
       "      <td>420</td>\n",
       "    </tr>\n",
       "    <tr>\n",
       "      <th>INCOMPLETE</th>\n",
       "      <td>3</td>\n",
       "    </tr>\n",
       "  </tbody>\n",
       "</table>\n",
       "</div>"
      ],
      "text/plain": [
       "            default\n",
       "COMPLETE      26313\n",
       "ERROR           420\n",
       "INCOMPLETE        3"
      ]
     },
     "execution_count": 7,
     "metadata": {},
     "output_type": "execute_result"
    }
   ],
   "source": [
    "# see how many molecules in the set (conformers counted separately)\n",
    "ds.status(spec)"
   ]
  },
  {
   "cell_type": "code",
   "execution_count": 8,
   "metadata": {},
   "outputs": [
    {
     "data": {
      "text/html": [
       "<div>\n",
       "<style scoped>\n",
       "    .dataframe tbody tr th:only-of-type {\n",
       "        vertical-align: middle;\n",
       "    }\n",
       "\n",
       "    .dataframe tbody tr th {\n",
       "        vertical-align: top;\n",
       "    }\n",
       "\n",
       "    .dataframe thead th {\n",
       "        text-align: right;\n",
       "    }\n",
       "</style>\n",
       "<table border=\"1\" class=\"dataframe\">\n",
       "  <thead>\n",
       "    <tr style=\"text-align: right;\">\n",
       "      <th></th>\n",
       "      <th>default</th>\n",
       "    </tr>\n",
       "  </thead>\n",
       "  <tbody>\n",
       "    <tr>\n",
       "      <th>C[NH2+]C[C@@H](c1ccc(c(c1)O)O)O-0</th>\n",
       "      <td>36.0</td>\n",
       "    </tr>\n",
       "    <tr>\n",
       "      <th>C[NH2+]C[C@@H](c1ccc(c(c1)O)O)O-1</th>\n",
       "      <td>19.0</td>\n",
       "    </tr>\n",
       "    <tr>\n",
       "      <th>C[NH2+]C[C@@H](c1ccc(c(c1)O)O)O-2</th>\n",
       "      <td>25.0</td>\n",
       "    </tr>\n",
       "    <tr>\n",
       "      <th>C[NH2+]C[C@@H](c1ccc(c(c1)O)O)O-3</th>\n",
       "      <td>24.0</td>\n",
       "    </tr>\n",
       "    <tr>\n",
       "      <th>C[NH2+]C[C@@H](c1ccc(c(c1)O)O)O-4</th>\n",
       "      <td>28.0</td>\n",
       "    </tr>\n",
       "    <tr>\n",
       "      <th>C[NH2+]C[C@@H](c1ccc(c(c1)O)O)O-5</th>\n",
       "      <td>31.0</td>\n",
       "    </tr>\n",
       "    <tr>\n",
       "      <th>C[NH2+]C[C@@H](c1ccc(c(c1)O)O)O-6</th>\n",
       "      <td>23.0</td>\n",
       "    </tr>\n",
       "    <tr>\n",
       "      <th>C[NH2+]C[C@@H](c1ccc(c(c1)O)O)O-7</th>\n",
       "      <td>24.0</td>\n",
       "    </tr>\n",
       "    <tr>\n",
       "      <th>C[NH2+]C[C@@H](c1ccc(c(c1)O)O)O-8</th>\n",
       "      <td>35.0</td>\n",
       "    </tr>\n",
       "    <tr>\n",
       "      <th>C[NH2+]C[C@@H](c1ccc(c(c1)O)O)O-9</th>\n",
       "      <td>25.0</td>\n",
       "    </tr>\n",
       "    <tr>\n",
       "      <th>CO/N=C/1\\C[N@](C[C@H]1C[NH3+])c2c(cc3c(=O)c(cn(c3n2)C4CC4)C(=O)[O-])F-3</th>\n",
       "      <td>82.0</td>\n",
       "    </tr>\n",
       "    <tr>\n",
       "      <th>CO/N=C/1\\C[N@](C[C@H]1C[NH3+])c2c(cc3c(=O)c(cn(c3n2)C4CC4)C(=O)[O-])F-5</th>\n",
       "      <td>72.0</td>\n",
       "    </tr>\n",
       "    <tr>\n",
       "      <th>CO/N=C/1\\C[N@](C[C@H]1C[NH3+])c2c(cc3c(=O)c(cn(c3n2)C4CC4)C(=O)[O-])F-6</th>\n",
       "      <td>204.0</td>\n",
       "    </tr>\n",
       "    <tr>\n",
       "      <th>c1cc(ccc1[C@H]2C[NH2+]CCc3c2cc(c(c3Cl)O)O)O-0</th>\n",
       "      <td>30.0</td>\n",
       "    </tr>\n",
       "    <tr>\n",
       "      <th>c1cc(ccc1[C@H]2C[NH2+]CCc3c2cc(c(c3Cl)O)O)O-1</th>\n",
       "      <td>38.0</td>\n",
       "    </tr>\n",
       "  </tbody>\n",
       "</table>\n",
       "</div>"
      ],
      "text/plain": [
       "                                                    default\n",
       "C[NH2+]C[C@@H](c1ccc(c(c1)O)O)O-0                      36.0\n",
       "C[NH2+]C[C@@H](c1ccc(c(c1)O)O)O-1                      19.0\n",
       "C[NH2+]C[C@@H](c1ccc(c(c1)O)O)O-2                      25.0\n",
       "C[NH2+]C[C@@H](c1ccc(c(c1)O)O)O-3                      24.0\n",
       "C[NH2+]C[C@@H](c1ccc(c(c1)O)O)O-4                      28.0\n",
       "C[NH2+]C[C@@H](c1ccc(c(c1)O)O)O-5                      31.0\n",
       "C[NH2+]C[C@@H](c1ccc(c(c1)O)O)O-6                      23.0\n",
       "C[NH2+]C[C@@H](c1ccc(c(c1)O)O)O-7                      24.0\n",
       "C[NH2+]C[C@@H](c1ccc(c(c1)O)O)O-8                      35.0\n",
       "C[NH2+]C[C@@H](c1ccc(c(c1)O)O)O-9                      25.0\n",
       "CO/N=C/1\\C[N@](C[C@H]1C[NH3+])c2c(cc3c(=O)c(cn(...     82.0\n",
       "CO/N=C/1\\C[N@](C[C@H]1C[NH3+])c2c(cc3c(=O)c(cn(...     72.0\n",
       "CO/N=C/1\\C[N@](C[C@H]1C[NH3+])c2c(cc3c(=O)c(cn(...    204.0\n",
       "c1cc(ccc1[C@H]2C[NH2+]CCc3c2cc(c(c3Cl)O)O)O-0          30.0\n",
       "c1cc(ccc1[C@H]2C[NH2+]CCc3c2cc(c(c3Cl)O)O)O-1          38.0"
      ]
     },
     "execution_count": 8,
     "metadata": {},
     "output_type": "execute_result"
    }
   ],
   "source": [
    "# show the number of optimization steps per entry\n",
    "ds.counts().head(15)"
   ]
  },
  {
   "cell_type": "markdown",
   "metadata": {},
   "source": [
    "## Explore a molecule "
   ]
  },
  {
   "cell_type": "code",
   "execution_count": 135,
   "metadata": {},
   "outputs": [
    {
     "name": "stdout",
     "output_type": "stream",
     "text": [
      "RecordStatusEnum.complete\n"
     ]
    },
    {
     "data": {
      "application/3dmoljs_load.v0": "<div id=\"3dmolviewer_15726390999962935\"  style=\"position: relative; width: 400px; height: 400px\">\n        <p id=\"3dmolwarning_15726390999962935\" style=\"background-color:#ffcccc;color:black\">You appear to be running in JupyterLab (or JavaScript failed to load for some other reason).  You need to install the 3dmol extension: <br>\n        <tt>jupyter labextension install jupyterlab_3dmol</tt></p>\n        </div>\n<script>\n\nvar loadScriptAsync = function(uri){\n  return new Promise((resolve, reject) => {\n    var tag = document.createElement('script');\n    tag.src = uri;\n    tag.async = true;\n    tag.onload = () => {\n      resolve();\n    };\n  var firstScriptTag = document.getElementsByTagName('script')[0];\n  firstScriptTag.parentNode.insertBefore(tag, firstScriptTag);\n});\n};\n\nif(typeof $3Dmolpromise === 'undefined') {\n$3Dmolpromise = null;\n  $3Dmolpromise = loadScriptAsync('https://3dmol.csb.pitt.edu/build/3Dmol.js');\n}\n\nvar viewer_15726390999962935 = null;\nvar warn = document.getElementById(\"3dmolwarning_15726390999962935\");\nif(warn) {\n    warn.parentNode.removeChild(warn);\n}\n$3Dmolpromise.then(function() {\nviewer_15726390999962935 = $3Dmol.createViewer($(\"#3dmolviewer_15726390999962935\"),{backgroundColor:\"white\"});\n\tviewer_15726390999962935.addModel(\"27\\nC9H14NO3\\nC                     2.485252092194    -1.997548670819     2.193306057735\\nC                     1.418719988224    -1.448085691491     2.909813698249\\nC                     2.077547875481    -0.442707236493     0.376471462793\\nC                     2.825184981906    -1.499974006485     0.932076960717\\nC                     0.675136553262    -0.402186345305     2.365060325069\\nC                     1.008921193854     0.094157329046     1.083924454862\\nC                     7.363629636648    -0.665285617082    -1.060345252041\\nC                     5.192933655243    -1.107024522771     0.204097954058\\nC                     4.003876132866    -2.070580650227     0.187478093078\\nN                     6.265069238531    -1.635546412932    -0.729580863480\\nO                    -0.363795906285     0.118127704265     3.061476803684\\nO                     0.202141526519     1.113132800063     0.639905252971\\nO                     3.776458967624    -2.284285491056    -1.218634641693\\nH                     3.044952066467    -2.823394511312     2.625850547764\\nH                     1.141114093665    -1.827631296571     3.888094963496\\nH                     2.316737635058    -0.061966695208    -0.615212427511\\nH                     7.850655207993    -0.358423142306    -0.134865232073\\nH                     8.080038053194    -1.153298322846    -1.721654916143\\nH                     6.921469375110     0.197996719748    -1.556754395506\\nH                     5.620543283011    -0.995952567343     1.201112162669\\nH                     4.898964713202    -0.129409718883    -0.180820293797\\nH                     4.299729743074    -3.017413541698     0.662408815959\\nH                     5.762495354521    -1.935019620525    -1.580381909910\\nH                     6.668815440582    -2.489616659398    -0.329507688509\\nH                    -0.782174259872     0.821514071988     2.532440065855\\nH                     0.435319708051     1.378590232037    -0.263841039959\\nH                     2.954380339609    -2.789841177097    -1.336963315356\\n\",\"xyz\");\n\tviewer_15726390999962935.setStyle({\"stick\": {\"radius\": 0.2}, \"sphere\": {\"scale\": 0.3}});\n\tviewer_15726390999962935.zoomTo();\nviewer_15726390999962935.render();\n});\n</script>",
      "text/html": [
       "<div id=\"3dmolviewer_15726390999962935\"  style=\"position: relative; width: 400px; height: 400px\">\n",
       "        <p id=\"3dmolwarning_15726390999962935\" style=\"background-color:#ffcccc;color:black\">You appear to be running in JupyterLab (or JavaScript failed to load for some other reason).  You need to install the 3dmol extension: <br>\n",
       "        <tt>jupyter labextension install jupyterlab_3dmol</tt></p>\n",
       "        </div>\n",
       "<script>\n",
       "\n",
       "var loadScriptAsync = function(uri){\n",
       "  return new Promise((resolve, reject) => {\n",
       "    var tag = document.createElement('script');\n",
       "    tag.src = uri;\n",
       "    tag.async = true;\n",
       "    tag.onload = () => {\n",
       "      resolve();\n",
       "    };\n",
       "  var firstScriptTag = document.getElementsByTagName('script')[0];\n",
       "  firstScriptTag.parentNode.insertBefore(tag, firstScriptTag);\n",
       "});\n",
       "};\n",
       "\n",
       "if(typeof $3Dmolpromise === 'undefined') {\n",
       "$3Dmolpromise = null;\n",
       "  $3Dmolpromise = loadScriptAsync('https://3dmol.csb.pitt.edu/build/3Dmol.js');\n",
       "}\n",
       "\n",
       "var viewer_15726390999962935 = null;\n",
       "var warn = document.getElementById(\"3dmolwarning_15726390999962935\");\n",
       "if(warn) {\n",
       "    warn.parentNode.removeChild(warn);\n",
       "}\n",
       "$3Dmolpromise.then(function() {\n",
       "viewer_15726390999962935 = $3Dmol.createViewer($(\"#3dmolviewer_15726390999962935\"),{backgroundColor:\"white\"});\n",
       "\tviewer_15726390999962935.addModel(\"27\\nC9H14NO3\\nC                     2.485252092194    -1.997548670819     2.193306057735\\nC                     1.418719988224    -1.448085691491     2.909813698249\\nC                     2.077547875481    -0.442707236493     0.376471462793\\nC                     2.825184981906    -1.499974006485     0.932076960717\\nC                     0.675136553262    -0.402186345305     2.365060325069\\nC                     1.008921193854     0.094157329046     1.083924454862\\nC                     7.363629636648    -0.665285617082    -1.060345252041\\nC                     5.192933655243    -1.107024522771     0.204097954058\\nC                     4.003876132866    -2.070580650227     0.187478093078\\nN                     6.265069238531    -1.635546412932    -0.729580863480\\nO                    -0.363795906285     0.118127704265     3.061476803684\\nO                     0.202141526519     1.113132800063     0.639905252971\\nO                     3.776458967624    -2.284285491056    -1.218634641693\\nH                     3.044952066467    -2.823394511312     2.625850547764\\nH                     1.141114093665    -1.827631296571     3.888094963496\\nH                     2.316737635058    -0.061966695208    -0.615212427511\\nH                     7.850655207993    -0.358423142306    -0.134865232073\\nH                     8.080038053194    -1.153298322846    -1.721654916143\\nH                     6.921469375110     0.197996719748    -1.556754395506\\nH                     5.620543283011    -0.995952567343     1.201112162669\\nH                     4.898964713202    -0.129409718883    -0.180820293797\\nH                     4.299729743074    -3.017413541698     0.662408815959\\nH                     5.762495354521    -1.935019620525    -1.580381909910\\nH                     6.668815440582    -2.489616659398    -0.329507688509\\nH                    -0.782174259872     0.821514071988     2.532440065855\\nH                     0.435319708051     1.378590232037    -0.263841039959\\nH                     2.954380339609    -2.789841177097    -1.336963315356\\n\",\"xyz\");\n",
       "\tviewer_15726390999962935.setStyle({\"stick\": {\"radius\": 0.2}, \"sphere\": {\"scale\": 0.3}});\n",
       "\tviewer_15726390999962935.zoomTo();\n",
       "viewer_15726390999962935.render();\n",
       "});\n",
       "</script>"
      ]
     },
     "metadata": {},
     "output_type": "display_data"
    },
    {
     "data": {
      "text/plain": [
       "<Molecule(name='C9H14NO3' formula='C9H14NO3' hash='2cf0381')>"
      ]
     },
     "execution_count": 135,
     "metadata": {},
     "output_type": "execute_result"
    }
   ],
   "source": [
    "# check out a single molecule and its final geometry\n",
    "optrec = ds.get_record(name=\"C[NH2+]C[C@@H](c1ccc(c(c1)O)O)O-0\", specification=\"default\")\n",
    "print(optrec.status)\n",
    "optrec.get_final_molecule()"
   ]
  },
  {
   "cell_type": "code",
   "execution_count": 80,
   "metadata": {
    "scrolled": true
   },
   "outputs": [
    {
     "data": {
      "text/html": [
       "        <script type=\"text/javascript\">\n",
       "        window.PlotlyConfig = {MathJaxConfig: 'local'};\n",
       "        if (window.MathJax) {MathJax.Hub.Config({SVG: {font: \"STIX-Web\"}});}\n",
       "        if (typeof require !== 'undefined') {\n",
       "        require.undef(\"plotly\");\n",
       "        requirejs.config({\n",
       "            paths: {\n",
       "                'plotly': ['https://cdn.plot.ly/plotly-latest.min']\n",
       "            }\n",
       "        });\n",
       "        require(['plotly'], function(Plotly) {\n",
       "            window._Plotly = Plotly;\n",
       "        });\n",
       "        }\n",
       "        </script>\n",
       "        "
      ]
     },
     "metadata": {},
     "output_type": "display_data"
    },
    {
     "data": {
      "application/vnd.plotly.v1+json": {
       "config": {
        "linkText": "Export to plot.ly",
        "plotlyServerURL": "https://plot.ly",
        "showLink": false
       },
       "data": [
        {
         "mode": "lines+markers",
         "type": "scatter",
         "x": [
          1,
          2,
          3,
          4,
          5,
          6,
          7,
          8,
          9,
          10,
          11,
          12,
          13,
          14,
          15,
          16,
          17,
          18,
          19,
          20,
          21,
          22,
          23,
          24,
          25,
          26,
          27,
          28,
          29,
          30,
          31,
          32,
          33,
          34,
          35,
          36
         ],
         "y": [
          20.658,
          16.113,
          15.412,
          13.948,
          11.165,
          6.806,
          6.649,
          2.337,
          1.227,
          0.86,
          0.598,
          0.352,
          0.148,
          0.084,
          0.039,
          0.014,
          0.005,
          0.002,
          0.001,
          0.001,
          0.001,
          0,
          0,
          0,
          0,
          0,
          0.001,
          0.002,
          0.002,
          0.001,
          0.001,
          0.001,
          0.001,
          0.002,
          0.002,
          0.002
         ]
        }
       ],
       "layout": {
        "template": {
         "data": {
          "bar": [
           {
            "error_x": {
             "color": "#2a3f5f"
            },
            "error_y": {
             "color": "#2a3f5f"
            },
            "marker": {
             "line": {
              "color": "#E5ECF6",
              "width": 0.5
             }
            },
            "type": "bar"
           }
          ],
          "barpolar": [
           {
            "marker": {
             "line": {
              "color": "#E5ECF6",
              "width": 0.5
             }
            },
            "type": "barpolar"
           }
          ],
          "carpet": [
           {
            "aaxis": {
             "endlinecolor": "#2a3f5f",
             "gridcolor": "white",
             "linecolor": "white",
             "minorgridcolor": "white",
             "startlinecolor": "#2a3f5f"
            },
            "baxis": {
             "endlinecolor": "#2a3f5f",
             "gridcolor": "white",
             "linecolor": "white",
             "minorgridcolor": "white",
             "startlinecolor": "#2a3f5f"
            },
            "type": "carpet"
           }
          ],
          "choropleth": [
           {
            "colorbar": {
             "outlinewidth": 0,
             "ticks": ""
            },
            "type": "choropleth"
           }
          ],
          "contour": [
           {
            "colorbar": {
             "outlinewidth": 0,
             "ticks": ""
            },
            "colorscale": [
             [
              0,
              "#0d0887"
             ],
             [
              0.1111111111111111,
              "#46039f"
             ],
             [
              0.2222222222222222,
              "#7201a8"
             ],
             [
              0.3333333333333333,
              "#9c179e"
             ],
             [
              0.4444444444444444,
              "#bd3786"
             ],
             [
              0.5555555555555556,
              "#d8576b"
             ],
             [
              0.6666666666666666,
              "#ed7953"
             ],
             [
              0.7777777777777778,
              "#fb9f3a"
             ],
             [
              0.8888888888888888,
              "#fdca26"
             ],
             [
              1,
              "#f0f921"
             ]
            ],
            "type": "contour"
           }
          ],
          "contourcarpet": [
           {
            "colorbar": {
             "outlinewidth": 0,
             "ticks": ""
            },
            "type": "contourcarpet"
           }
          ],
          "heatmap": [
           {
            "colorbar": {
             "outlinewidth": 0,
             "ticks": ""
            },
            "colorscale": [
             [
              0,
              "#0d0887"
             ],
             [
              0.1111111111111111,
              "#46039f"
             ],
             [
              0.2222222222222222,
              "#7201a8"
             ],
             [
              0.3333333333333333,
              "#9c179e"
             ],
             [
              0.4444444444444444,
              "#bd3786"
             ],
             [
              0.5555555555555556,
              "#d8576b"
             ],
             [
              0.6666666666666666,
              "#ed7953"
             ],
             [
              0.7777777777777778,
              "#fb9f3a"
             ],
             [
              0.8888888888888888,
              "#fdca26"
             ],
             [
              1,
              "#f0f921"
             ]
            ],
            "type": "heatmap"
           }
          ],
          "heatmapgl": [
           {
            "colorbar": {
             "outlinewidth": 0,
             "ticks": ""
            },
            "colorscale": [
             [
              0,
              "#0d0887"
             ],
             [
              0.1111111111111111,
              "#46039f"
             ],
             [
              0.2222222222222222,
              "#7201a8"
             ],
             [
              0.3333333333333333,
              "#9c179e"
             ],
             [
              0.4444444444444444,
              "#bd3786"
             ],
             [
              0.5555555555555556,
              "#d8576b"
             ],
             [
              0.6666666666666666,
              "#ed7953"
             ],
             [
              0.7777777777777778,
              "#fb9f3a"
             ],
             [
              0.8888888888888888,
              "#fdca26"
             ],
             [
              1,
              "#f0f921"
             ]
            ],
            "type": "heatmapgl"
           }
          ],
          "histogram": [
           {
            "marker": {
             "colorbar": {
              "outlinewidth": 0,
              "ticks": ""
             }
            },
            "type": "histogram"
           }
          ],
          "histogram2d": [
           {
            "colorbar": {
             "outlinewidth": 0,
             "ticks": ""
            },
            "colorscale": [
             [
              0,
              "#0d0887"
             ],
             [
              0.1111111111111111,
              "#46039f"
             ],
             [
              0.2222222222222222,
              "#7201a8"
             ],
             [
              0.3333333333333333,
              "#9c179e"
             ],
             [
              0.4444444444444444,
              "#bd3786"
             ],
             [
              0.5555555555555556,
              "#d8576b"
             ],
             [
              0.6666666666666666,
              "#ed7953"
             ],
             [
              0.7777777777777778,
              "#fb9f3a"
             ],
             [
              0.8888888888888888,
              "#fdca26"
             ],
             [
              1,
              "#f0f921"
             ]
            ],
            "type": "histogram2d"
           }
          ],
          "histogram2dcontour": [
           {
            "colorbar": {
             "outlinewidth": 0,
             "ticks": ""
            },
            "colorscale": [
             [
              0,
              "#0d0887"
             ],
             [
              0.1111111111111111,
              "#46039f"
             ],
             [
              0.2222222222222222,
              "#7201a8"
             ],
             [
              0.3333333333333333,
              "#9c179e"
             ],
             [
              0.4444444444444444,
              "#bd3786"
             ],
             [
              0.5555555555555556,
              "#d8576b"
             ],
             [
              0.6666666666666666,
              "#ed7953"
             ],
             [
              0.7777777777777778,
              "#fb9f3a"
             ],
             [
              0.8888888888888888,
              "#fdca26"
             ],
             [
              1,
              "#f0f921"
             ]
            ],
            "type": "histogram2dcontour"
           }
          ],
          "mesh3d": [
           {
            "colorbar": {
             "outlinewidth": 0,
             "ticks": ""
            },
            "type": "mesh3d"
           }
          ],
          "parcoords": [
           {
            "line": {
             "colorbar": {
              "outlinewidth": 0,
              "ticks": ""
             }
            },
            "type": "parcoords"
           }
          ],
          "scatter": [
           {
            "marker": {
             "colorbar": {
              "outlinewidth": 0,
              "ticks": ""
             }
            },
            "type": "scatter"
           }
          ],
          "scatter3d": [
           {
            "line": {
             "colorbar": {
              "outlinewidth": 0,
              "ticks": ""
             }
            },
            "marker": {
             "colorbar": {
              "outlinewidth": 0,
              "ticks": ""
             }
            },
            "type": "scatter3d"
           }
          ],
          "scattercarpet": [
           {
            "marker": {
             "colorbar": {
              "outlinewidth": 0,
              "ticks": ""
             }
            },
            "type": "scattercarpet"
           }
          ],
          "scattergeo": [
           {
            "marker": {
             "colorbar": {
              "outlinewidth": 0,
              "ticks": ""
             }
            },
            "type": "scattergeo"
           }
          ],
          "scattergl": [
           {
            "marker": {
             "colorbar": {
              "outlinewidth": 0,
              "ticks": ""
             }
            },
            "type": "scattergl"
           }
          ],
          "scattermapbox": [
           {
            "marker": {
             "colorbar": {
              "outlinewidth": 0,
              "ticks": ""
             }
            },
            "type": "scattermapbox"
           }
          ],
          "scatterpolar": [
           {
            "marker": {
             "colorbar": {
              "outlinewidth": 0,
              "ticks": ""
             }
            },
            "type": "scatterpolar"
           }
          ],
          "scatterpolargl": [
           {
            "marker": {
             "colorbar": {
              "outlinewidth": 0,
              "ticks": ""
             }
            },
            "type": "scatterpolargl"
           }
          ],
          "scatterternary": [
           {
            "marker": {
             "colorbar": {
              "outlinewidth": 0,
              "ticks": ""
             }
            },
            "type": "scatterternary"
           }
          ],
          "surface": [
           {
            "colorbar": {
             "outlinewidth": 0,
             "ticks": ""
            },
            "colorscale": [
             [
              0,
              "#0d0887"
             ],
             [
              0.1111111111111111,
              "#46039f"
             ],
             [
              0.2222222222222222,
              "#7201a8"
             ],
             [
              0.3333333333333333,
              "#9c179e"
             ],
             [
              0.4444444444444444,
              "#bd3786"
             ],
             [
              0.5555555555555556,
              "#d8576b"
             ],
             [
              0.6666666666666666,
              "#ed7953"
             ],
             [
              0.7777777777777778,
              "#fb9f3a"
             ],
             [
              0.8888888888888888,
              "#fdca26"
             ],
             [
              1,
              "#f0f921"
             ]
            ],
            "type": "surface"
           }
          ],
          "table": [
           {
            "cells": {
             "fill": {
              "color": "#EBF0F8"
             },
             "line": {
              "color": "white"
             }
            },
            "header": {
             "fill": {
              "color": "#C8D4E3"
             },
             "line": {
              "color": "white"
             }
            },
            "type": "table"
           }
          ]
         },
         "layout": {
          "annotationdefaults": {
           "arrowcolor": "#2a3f5f",
           "arrowhead": 0,
           "arrowwidth": 1
          },
          "colorscale": {
           "diverging": [
            [
             0,
             "#8e0152"
            ],
            [
             0.1,
             "#c51b7d"
            ],
            [
             0.2,
             "#de77ae"
            ],
            [
             0.3,
             "#f1b6da"
            ],
            [
             0.4,
             "#fde0ef"
            ],
            [
             0.5,
             "#f7f7f7"
            ],
            [
             0.6,
             "#e6f5d0"
            ],
            [
             0.7,
             "#b8e186"
            ],
            [
             0.8,
             "#7fbc41"
            ],
            [
             0.9,
             "#4d9221"
            ],
            [
             1,
             "#276419"
            ]
           ],
           "sequential": [
            [
             0,
             "#0d0887"
            ],
            [
             0.1111111111111111,
             "#46039f"
            ],
            [
             0.2222222222222222,
             "#7201a8"
            ],
            [
             0.3333333333333333,
             "#9c179e"
            ],
            [
             0.4444444444444444,
             "#bd3786"
            ],
            [
             0.5555555555555556,
             "#d8576b"
            ],
            [
             0.6666666666666666,
             "#ed7953"
            ],
            [
             0.7777777777777778,
             "#fb9f3a"
            ],
            [
             0.8888888888888888,
             "#fdca26"
            ],
            [
             1,
             "#f0f921"
            ]
           ],
           "sequentialminus": [
            [
             0,
             "#0d0887"
            ],
            [
             0.1111111111111111,
             "#46039f"
            ],
            [
             0.2222222222222222,
             "#7201a8"
            ],
            [
             0.3333333333333333,
             "#9c179e"
            ],
            [
             0.4444444444444444,
             "#bd3786"
            ],
            [
             0.5555555555555556,
             "#d8576b"
            ],
            [
             0.6666666666666666,
             "#ed7953"
            ],
            [
             0.7777777777777778,
             "#fb9f3a"
            ],
            [
             0.8888888888888888,
             "#fdca26"
            ],
            [
             1,
             "#f0f921"
            ]
           ]
          },
          "colorway": [
           "#636efa",
           "#EF553B",
           "#00cc96",
           "#ab63fa",
           "#FFA15A",
           "#19d3f3",
           "#FF6692",
           "#B6E880",
           "#FF97FF",
           "#FECB52"
          ],
          "font": {
           "color": "#2a3f5f"
          },
          "geo": {
           "bgcolor": "white",
           "lakecolor": "white",
           "landcolor": "#E5ECF6",
           "showlakes": true,
           "showland": true,
           "subunitcolor": "white"
          },
          "hoverlabel": {
           "align": "left"
          },
          "hovermode": "closest",
          "mapbox": {
           "style": "light"
          },
          "paper_bgcolor": "white",
          "plot_bgcolor": "#E5ECF6",
          "polar": {
           "angularaxis": {
            "gridcolor": "white",
            "linecolor": "white",
            "ticks": ""
           },
           "bgcolor": "#E5ECF6",
           "radialaxis": {
            "gridcolor": "white",
            "linecolor": "white",
            "ticks": ""
           }
          },
          "scene": {
           "xaxis": {
            "backgroundcolor": "#E5ECF6",
            "gridcolor": "white",
            "gridwidth": 2,
            "linecolor": "white",
            "showbackground": true,
            "ticks": "",
            "zerolinecolor": "white"
           },
           "yaxis": {
            "backgroundcolor": "#E5ECF6",
            "gridcolor": "white",
            "gridwidth": 2,
            "linecolor": "white",
            "showbackground": true,
            "ticks": "",
            "zerolinecolor": "white"
           },
           "zaxis": {
            "backgroundcolor": "#E5ECF6",
            "gridcolor": "white",
            "gridwidth": 2,
            "linecolor": "white",
            "showbackground": true,
            "ticks": "",
            "zerolinecolor": "white"
           }
          },
          "shapedefaults": {
           "line": {
            "color": "#2a3f5f"
           }
          },
          "ternary": {
           "aaxis": {
            "gridcolor": "white",
            "linecolor": "white",
            "ticks": ""
           },
           "baxis": {
            "gridcolor": "white",
            "linecolor": "white",
            "ticks": ""
           },
           "bgcolor": "#E5ECF6",
           "caxis": {
            "gridcolor": "white",
            "linecolor": "white",
            "ticks": ""
           }
          },
          "title": {
           "x": 0.05
          },
          "xaxis": {
           "automargin": true,
           "gridcolor": "white",
           "linecolor": "white",
           "ticks": "",
           "zerolinecolor": "white",
           "zerolinewidth": 2
          },
          "yaxis": {
           "automargin": true,
           "gridcolor": "white",
           "linecolor": "white",
           "ticks": "",
           "zerolinecolor": "white",
           "zerolinewidth": 2
          }
         }
        },
        "title": {
         "text": "Geometry Optimization"
        },
        "xaxis": {
         "range": [
          1,
          36
         ],
         "title": {
          "text": "Optimization Step"
         }
        },
        "yaxis": {
         "title": {
          "text": "Relative Energy [kcal/mol]"
         },
         "zeroline": true
        }
       }
      },
      "text/html": [
       "<div>\n",
       "        \n",
       "        \n",
       "            <div id=\"9c022160-55b9-432b-9626-f2c4234704d9\" class=\"plotly-graph-div\" style=\"height:525px; width:100%;\"></div>\n",
       "            <script type=\"text/javascript\">\n",
       "                require([\"plotly\"], function(Plotly) {\n",
       "                    window.PLOTLYENV=window.PLOTLYENV || {};\n",
       "                    \n",
       "                if (document.getElementById(\"9c022160-55b9-432b-9626-f2c4234704d9\")) {\n",
       "                    Plotly.newPlot(\n",
       "                        '9c022160-55b9-432b-9626-f2c4234704d9',\n",
       "                        [{\"mode\": \"lines+markers\", \"type\": \"scatter\", \"x\": [1, 2, 3, 4, 5, 6, 7, 8, 9, 10, 11, 12, 13, 14, 15, 16, 17, 18, 19, 20, 21, 22, 23, 24, 25, 26, 27, 28, 29, 30, 31, 32, 33, 34, 35, 36], \"y\": [20.658, 16.113, 15.412, 13.948, 11.165, 6.806, 6.649, 2.337, 1.227, 0.86, 0.598, 0.352, 0.148, 0.084, 0.039, 0.014, 0.005, 0.002, 0.001, 0.001, 0.001, 0.0, 0.0, 0.0, 0.0, 0.0, 0.001, 0.002, 0.002, 0.001, 0.001, 0.001, 0.001, 0.002, 0.002, 0.002]}],\n",
       "                        {\"template\": {\"data\": {\"bar\": [{\"error_x\": {\"color\": \"#2a3f5f\"}, \"error_y\": {\"color\": \"#2a3f5f\"}, \"marker\": {\"line\": {\"color\": \"#E5ECF6\", \"width\": 0.5}}, \"type\": \"bar\"}], \"barpolar\": [{\"marker\": {\"line\": {\"color\": \"#E5ECF6\", \"width\": 0.5}}, \"type\": \"barpolar\"}], \"carpet\": [{\"aaxis\": {\"endlinecolor\": \"#2a3f5f\", \"gridcolor\": \"white\", \"linecolor\": \"white\", \"minorgridcolor\": \"white\", \"startlinecolor\": \"#2a3f5f\"}, \"baxis\": {\"endlinecolor\": \"#2a3f5f\", \"gridcolor\": \"white\", \"linecolor\": \"white\", \"minorgridcolor\": \"white\", \"startlinecolor\": \"#2a3f5f\"}, \"type\": \"carpet\"}], \"choropleth\": [{\"colorbar\": {\"outlinewidth\": 0, \"ticks\": \"\"}, \"type\": \"choropleth\"}], \"contour\": [{\"colorbar\": {\"outlinewidth\": 0, \"ticks\": \"\"}, \"colorscale\": [[0.0, \"#0d0887\"], [0.1111111111111111, \"#46039f\"], [0.2222222222222222, \"#7201a8\"], [0.3333333333333333, \"#9c179e\"], [0.4444444444444444, \"#bd3786\"], [0.5555555555555556, \"#d8576b\"], [0.6666666666666666, \"#ed7953\"], [0.7777777777777778, \"#fb9f3a\"], [0.8888888888888888, \"#fdca26\"], [1.0, \"#f0f921\"]], \"type\": \"contour\"}], \"contourcarpet\": [{\"colorbar\": {\"outlinewidth\": 0, \"ticks\": \"\"}, \"type\": \"contourcarpet\"}], \"heatmap\": [{\"colorbar\": {\"outlinewidth\": 0, \"ticks\": \"\"}, \"colorscale\": [[0.0, \"#0d0887\"], [0.1111111111111111, \"#46039f\"], [0.2222222222222222, \"#7201a8\"], [0.3333333333333333, \"#9c179e\"], [0.4444444444444444, \"#bd3786\"], [0.5555555555555556, \"#d8576b\"], [0.6666666666666666, \"#ed7953\"], [0.7777777777777778, \"#fb9f3a\"], [0.8888888888888888, \"#fdca26\"], [1.0, \"#f0f921\"]], \"type\": \"heatmap\"}], \"heatmapgl\": [{\"colorbar\": {\"outlinewidth\": 0, \"ticks\": \"\"}, \"colorscale\": [[0.0, \"#0d0887\"], [0.1111111111111111, \"#46039f\"], [0.2222222222222222, \"#7201a8\"], [0.3333333333333333, \"#9c179e\"], [0.4444444444444444, \"#bd3786\"], [0.5555555555555556, \"#d8576b\"], [0.6666666666666666, \"#ed7953\"], [0.7777777777777778, \"#fb9f3a\"], [0.8888888888888888, \"#fdca26\"], [1.0, \"#f0f921\"]], \"type\": \"heatmapgl\"}], \"histogram\": [{\"marker\": {\"colorbar\": {\"outlinewidth\": 0, \"ticks\": \"\"}}, \"type\": \"histogram\"}], \"histogram2d\": [{\"colorbar\": {\"outlinewidth\": 0, \"ticks\": \"\"}, \"colorscale\": [[0.0, \"#0d0887\"], [0.1111111111111111, \"#46039f\"], [0.2222222222222222, \"#7201a8\"], [0.3333333333333333, \"#9c179e\"], [0.4444444444444444, \"#bd3786\"], [0.5555555555555556, \"#d8576b\"], [0.6666666666666666, \"#ed7953\"], [0.7777777777777778, \"#fb9f3a\"], [0.8888888888888888, \"#fdca26\"], [1.0, \"#f0f921\"]], \"type\": \"histogram2d\"}], \"histogram2dcontour\": [{\"colorbar\": {\"outlinewidth\": 0, \"ticks\": \"\"}, \"colorscale\": [[0.0, \"#0d0887\"], [0.1111111111111111, \"#46039f\"], [0.2222222222222222, \"#7201a8\"], [0.3333333333333333, \"#9c179e\"], [0.4444444444444444, \"#bd3786\"], [0.5555555555555556, \"#d8576b\"], [0.6666666666666666, \"#ed7953\"], [0.7777777777777778, \"#fb9f3a\"], [0.8888888888888888, \"#fdca26\"], [1.0, \"#f0f921\"]], \"type\": \"histogram2dcontour\"}], \"mesh3d\": [{\"colorbar\": {\"outlinewidth\": 0, \"ticks\": \"\"}, \"type\": \"mesh3d\"}], \"parcoords\": [{\"line\": {\"colorbar\": {\"outlinewidth\": 0, \"ticks\": \"\"}}, \"type\": \"parcoords\"}], \"scatter\": [{\"marker\": {\"colorbar\": {\"outlinewidth\": 0, \"ticks\": \"\"}}, \"type\": \"scatter\"}], \"scatter3d\": [{\"line\": {\"colorbar\": {\"outlinewidth\": 0, \"ticks\": \"\"}}, \"marker\": {\"colorbar\": {\"outlinewidth\": 0, \"ticks\": \"\"}}, \"type\": \"scatter3d\"}], \"scattercarpet\": [{\"marker\": {\"colorbar\": {\"outlinewidth\": 0, \"ticks\": \"\"}}, \"type\": \"scattercarpet\"}], \"scattergeo\": [{\"marker\": {\"colorbar\": {\"outlinewidth\": 0, \"ticks\": \"\"}}, \"type\": \"scattergeo\"}], \"scattergl\": [{\"marker\": {\"colorbar\": {\"outlinewidth\": 0, \"ticks\": \"\"}}, \"type\": \"scattergl\"}], \"scattermapbox\": [{\"marker\": {\"colorbar\": {\"outlinewidth\": 0, \"ticks\": \"\"}}, \"type\": \"scattermapbox\"}], \"scatterpolar\": [{\"marker\": {\"colorbar\": {\"outlinewidth\": 0, \"ticks\": \"\"}}, \"type\": \"scatterpolar\"}], \"scatterpolargl\": [{\"marker\": {\"colorbar\": {\"outlinewidth\": 0, \"ticks\": \"\"}}, \"type\": \"scatterpolargl\"}], \"scatterternary\": [{\"marker\": {\"colorbar\": {\"outlinewidth\": 0, \"ticks\": \"\"}}, \"type\": \"scatterternary\"}], \"surface\": [{\"colorbar\": {\"outlinewidth\": 0, \"ticks\": \"\"}, \"colorscale\": [[0.0, \"#0d0887\"], [0.1111111111111111, \"#46039f\"], [0.2222222222222222, \"#7201a8\"], [0.3333333333333333, \"#9c179e\"], [0.4444444444444444, \"#bd3786\"], [0.5555555555555556, \"#d8576b\"], [0.6666666666666666, \"#ed7953\"], [0.7777777777777778, \"#fb9f3a\"], [0.8888888888888888, \"#fdca26\"], [1.0, \"#f0f921\"]], \"type\": \"surface\"}], \"table\": [{\"cells\": {\"fill\": {\"color\": \"#EBF0F8\"}, \"line\": {\"color\": \"white\"}}, \"header\": {\"fill\": {\"color\": \"#C8D4E3\"}, \"line\": {\"color\": \"white\"}}, \"type\": \"table\"}]}, \"layout\": {\"annotationdefaults\": {\"arrowcolor\": \"#2a3f5f\", \"arrowhead\": 0, \"arrowwidth\": 1}, \"colorscale\": {\"diverging\": [[0, \"#8e0152\"], [0.1, \"#c51b7d\"], [0.2, \"#de77ae\"], [0.3, \"#f1b6da\"], [0.4, \"#fde0ef\"], [0.5, \"#f7f7f7\"], [0.6, \"#e6f5d0\"], [0.7, \"#b8e186\"], [0.8, \"#7fbc41\"], [0.9, \"#4d9221\"], [1, \"#276419\"]], \"sequential\": [[0.0, \"#0d0887\"], [0.1111111111111111, \"#46039f\"], [0.2222222222222222, \"#7201a8\"], [0.3333333333333333, \"#9c179e\"], [0.4444444444444444, \"#bd3786\"], [0.5555555555555556, \"#d8576b\"], [0.6666666666666666, \"#ed7953\"], [0.7777777777777778, \"#fb9f3a\"], [0.8888888888888888, \"#fdca26\"], [1.0, \"#f0f921\"]], \"sequentialminus\": [[0.0, \"#0d0887\"], [0.1111111111111111, \"#46039f\"], [0.2222222222222222, \"#7201a8\"], [0.3333333333333333, \"#9c179e\"], [0.4444444444444444, \"#bd3786\"], [0.5555555555555556, \"#d8576b\"], [0.6666666666666666, \"#ed7953\"], [0.7777777777777778, \"#fb9f3a\"], [0.8888888888888888, \"#fdca26\"], [1.0, \"#f0f921\"]]}, \"colorway\": [\"#636efa\", \"#EF553B\", \"#00cc96\", \"#ab63fa\", \"#FFA15A\", \"#19d3f3\", \"#FF6692\", \"#B6E880\", \"#FF97FF\", \"#FECB52\"], \"font\": {\"color\": \"#2a3f5f\"}, \"geo\": {\"bgcolor\": \"white\", \"lakecolor\": \"white\", \"landcolor\": \"#E5ECF6\", \"showlakes\": true, \"showland\": true, \"subunitcolor\": \"white\"}, \"hoverlabel\": {\"align\": \"left\"}, \"hovermode\": \"closest\", \"mapbox\": {\"style\": \"light\"}, \"paper_bgcolor\": \"white\", \"plot_bgcolor\": \"#E5ECF6\", \"polar\": {\"angularaxis\": {\"gridcolor\": \"white\", \"linecolor\": \"white\", \"ticks\": \"\"}, \"bgcolor\": \"#E5ECF6\", \"radialaxis\": {\"gridcolor\": \"white\", \"linecolor\": \"white\", \"ticks\": \"\"}}, \"scene\": {\"xaxis\": {\"backgroundcolor\": \"#E5ECF6\", \"gridcolor\": \"white\", \"gridwidth\": 2, \"linecolor\": \"white\", \"showbackground\": true, \"ticks\": \"\", \"zerolinecolor\": \"white\"}, \"yaxis\": {\"backgroundcolor\": \"#E5ECF6\", \"gridcolor\": \"white\", \"gridwidth\": 2, \"linecolor\": \"white\", \"showbackground\": true, \"ticks\": \"\", \"zerolinecolor\": \"white\"}, \"zaxis\": {\"backgroundcolor\": \"#E5ECF6\", \"gridcolor\": \"white\", \"gridwidth\": 2, \"linecolor\": \"white\", \"showbackground\": true, \"ticks\": \"\", \"zerolinecolor\": \"white\"}}, \"shapedefaults\": {\"line\": {\"color\": \"#2a3f5f\"}}, \"ternary\": {\"aaxis\": {\"gridcolor\": \"white\", \"linecolor\": \"white\", \"ticks\": \"\"}, \"baxis\": {\"gridcolor\": \"white\", \"linecolor\": \"white\", \"ticks\": \"\"}, \"bgcolor\": \"#E5ECF6\", \"caxis\": {\"gridcolor\": \"white\", \"linecolor\": \"white\", \"ticks\": \"\"}}, \"title\": {\"x\": 0.05}, \"xaxis\": {\"automargin\": true, \"gridcolor\": \"white\", \"linecolor\": \"white\", \"ticks\": \"\", \"zerolinecolor\": \"white\", \"zerolinewidth\": 2}, \"yaxis\": {\"automargin\": true, \"gridcolor\": \"white\", \"linecolor\": \"white\", \"ticks\": \"\", \"zerolinecolor\": \"white\", \"zerolinewidth\": 2}}}, \"title\": {\"text\": \"Geometry Optimization\"}, \"xaxis\": {\"range\": [1, 36], \"title\": {\"text\": \"Optimization Step\"}}, \"yaxis\": {\"title\": {\"text\": \"Relative Energy [kcal/mol]\"}, \"zeroline\": true}},\n",
       "                        {\"responsive\": true}\n",
       "                    ).then(function(){\n",
       "                            \n",
       "var gd = document.getElementById('9c022160-55b9-432b-9626-f2c4234704d9');\n",
       "var x = new MutationObserver(function (mutations, observer) {{\n",
       "        var display = window.getComputedStyle(gd).display;\n",
       "        if (!display || display === 'none') {{\n",
       "            console.log([gd, 'removed!']);\n",
       "            Plotly.purge(gd);\n",
       "            observer.disconnect();\n",
       "        }}\n",
       "}});\n",
       "\n",
       "// Listen for the removal of the full notebook cells\n",
       "var notebookContainer = gd.closest('#notebook-container');\n",
       "if (notebookContainer) {{\n",
       "    x.observe(notebookContainer, {childList: true});\n",
       "}}\n",
       "\n",
       "// Listen for the clearing of the current output cell\n",
       "var outputEl = gd.closest('.output');\n",
       "if (outputEl) {{\n",
       "    x.observe(outputEl, {childList: true});\n",
       "}}\n",
       "\n",
       "                        })\n",
       "                };\n",
       "                });\n",
       "            </script>\n",
       "        </div>"
      ]
     },
     "metadata": {},
     "output_type": "display_data"
    }
   ],
   "source": [
    "optrec.show_history()"
   ]
  },
  {
   "cell_type": "code",
   "execution_count": 113,
   "metadata": {},
   "outputs": [
    {
     "data": {
      "text/plain": [
       "-631.6931043923831"
      ]
     },
     "execution_count": 113,
     "metadata": {},
     "output_type": "execute_result"
    }
   ],
   "source": [
    "optrec.get_final_energy()"
   ]
  },
  {
   "cell_type": "markdown",
   "metadata": {},
   "source": [
    "## Convert to OEMol, write to file (single mol) "
   ]
  },
  {
   "cell_type": "code",
   "execution_count": 114,
   "metadata": {},
   "outputs": [
    {
     "data": {
      "text/plain": [
       "qcelemental.models.molecule.Molecule"
      ]
     },
     "execution_count": 114,
     "metadata": {},
     "output_type": "execute_result"
    }
   ],
   "source": [
    "mol = optrec.get_final_molecule()\n",
    "type(mol)"
   ]
  },
  {
   "cell_type": "code",
   "execution_count": 115,
   "metadata": {},
   "outputs": [
    {
     "data": {
      "text/plain": [
       "<oechem.OEMol; proxy of <Swig Object of type 'OEMolWrapper *' at 0x7f6d36265f30> >"
      ]
     },
     "execution_count": 115,
     "metadata": {},
     "output_type": "execute_result"
    }
   ],
   "source": [
    "# convert the qcelemental molecule to an OpenEye molecule\n",
    "qcjson_mol = mol.dict(encoding='json')\n",
    "oemol = cmiles.utils.load_molecule(qcjson_mol)\n",
    "oemol"
   ]
  },
  {
   "cell_type": "code",
   "execution_count": 116,
   "metadata": {},
   "outputs": [],
   "source": [
    "# convert energy from Hartrees to kcal/mol\n",
    "ene = optrec.get_final_energy()*qcel.constants.hartree2kcalmol"
   ]
  },
  {
   "cell_type": "code",
   "execution_count": 117,
   "metadata": {},
   "outputs": [
    {
     "data": {
      "text/plain": [
       "True"
      ]
     },
     "execution_count": 117,
     "metadata": {},
     "output_type": "execute_result"
    }
   ],
   "source": [
    "# add name and energy tag to the mol\n",
    "oemol.SetTitle(\"full_1\")\n",
    "oechem.OESetSDData(oemol, \"Energy QCArchive\", str(ene))"
   ]
  },
  {
   "cell_type": "code",
   "execution_count": 118,
   "metadata": {},
   "outputs": [
    {
     "data": {
      "text/plain": [
       "True"
      ]
     },
     "execution_count": 118,
     "metadata": {},
     "output_type": "execute_result"
    }
   ],
   "source": [
    "# write molecule -- check that title and sd tag exists\n",
    "ofs = oechem.oemolostream()\n",
    "ofs.open(\"test.sdf\")\n",
    "oechem.OEWriteConstMolecule(ofs, oemol)"
   ]
  },
  {
   "cell_type": "markdown",
   "metadata": {},
   "source": [
    "## Convert to OEMol, write to file, test conformer reading"
   ]
  },
  {
   "cell_type": "code",
   "execution_count": 219,
   "metadata": {},
   "outputs": [],
   "source": [
    "# open an outstream file\n",
    "outfile = 'test.sdf'\n",
    "ofs = oechem.oemolostream()\n",
    "#if os.path.exists(outfile):\n",
    "#    raise FileExistsError(\"Output file {} already exists in {}\".format(\n",
    "#        outfile, os.getcwd()))\n",
    "if not ofs.open(outfile):\n",
    "    oechem.OEThrow.Fatal(\"Unable to open %s for writing\" % outfile)"
   ]
  },
  {
   "cell_type": "code",
   "execution_count": 220,
   "metadata": {
    "scrolled": true
   },
   "outputs": [
    {
     "name": "stdout",
     "output_type": "stream",
     "text": [
      "0\n",
      "C[NH2+]C[C@@H](c1ccc(c(c1)O)O)O-0\n",
      "C[NH2+]C[C@@H](c1ccc(c(c1)O)O)O-1\n",
      "C[NH2+]C[C@@H](c1ccc(c(c1)O)O)O-2\n",
      "C[NH2+]C[C@@H](c1ccc(c(c1)O)O)O-3\n",
      "C[NH2+]C[C@@H](c1ccc(c(c1)O)O)O-4\n",
      "C[NH2+]C[C@@H](c1ccc(c(c1)O)O)O-5\n",
      "C[NH2+]C[C@@H](c1ccc(c(c1)O)O)O-6\n",
      "C[NH2+]C[C@@H](c1ccc(c(c1)O)O)O-7\n",
      "C[NH2+]C[C@@H](c1ccc(c(c1)O)O)O-8\n",
      "C[NH2+]C[C@@H](c1ccc(c(c1)O)O)O-9\n",
      "10\n",
      "CO/N=C/1\\C[N@](C[C@H]1C[NH3+])c2c(cc3c(=O)c(cn(c3n2)C4CC4)C(=O)[O-])F-0\n",
      "CO/N=C/1\\C[N@](C[C@H]1C[NH3+])c2c(cc3c(=O)c(cn(c3n2)C4CC4)C(=O)[O-])F-1\n",
      "CO/N=C/1\\C[N@](C[C@H]1C[NH3+])c2c(cc3c(=O)c(cn(c3n2)C4CC4)C(=O)[O-])F-2\n",
      "CO/N=C/1\\C[N@](C[C@H]1C[NH3+])c2c(cc3c(=O)c(cn(c3n2)C4CC4)C(=O)[O-])F-3\n",
      "CO/N=C/1\\C[N@](C[C@H]1C[NH3+])c2c(cc3c(=O)c(cn(c3n2)C4CC4)C(=O)[O-])F-4\n",
      "CO/N=C/1\\C[N@](C[C@H]1C[NH3+])c2c(cc3c(=O)c(cn(c3n2)C4CC4)C(=O)[O-])F-5\n",
      "CO/N=C/1\\C[N@](C[C@H]1C[NH3+])c2c(cc3c(=O)c(cn(c3n2)C4CC4)C(=O)[O-])F-6\n",
      "c1cc(ccc1[C@H]2C[NH2+]CCc3c2cc(c(c3Cl)O)O)O-0\n",
      "c1cc(ccc1[C@H]2C[NH2+]CCc3c2cc(c(c3Cl)O)O)O-1\n",
      "c1cc(ccc1[C@H]2C[NH2+]CCc3c2cc(c(c3Cl)O)O)O-2\n",
      "20\n"
     ]
    }
   ],
   "source": [
    "for i, index in enumerate(ds.df.index):\n",
    "    \n",
    "    # get the record of each entry\n",
    "    record = ds.get_record(name=index, specification=spec)\n",
    "    \n",
    "    if i%10 == 0: \n",
    "        print(i)\n",
    "    if i == 20:\n",
    "        break\n",
    "    print(index)\n",
    "        \n",
    "    if record.status == \"COMPLETE\":\n",
    "    \n",
    "        # get optimized molecule of the record\n",
    "        qc_mol = record.get_final_molecule()\n",
    "\n",
    "        # convert the qcelemental molecule to an OpenEye molecule\n",
    "        qcjson_mol = qc_mol.dict(encoding='json')\n",
    "        oemol = cmiles.utils.load_molecule(qcjson_mol)\n",
    "\n",
    "        # convert energy from Hartrees to kcal/mol\n",
    "        ene = record.get_final_energy()*qcel.constants.hartree2kcalmol\n",
    "\n",
    "        # add name and energy tag to the mol\n",
    "        oemol.SetTitle(f\"full_{i+1}\")\n",
    "        oechem.OESetSDData(oemol, \"Energy QCArchive\", str(ene))\n",
    "        \n",
    "        # write molecule to file\n",
    "        oechem.OEWriteConstMolecule(ofs, oemol)\n"
   ]
  },
  {
   "cell_type": "code",
   "execution_count": 221,
   "metadata": {},
   "outputs": [],
   "source": [
    "ofs.close()"
   ]
  },
  {
   "cell_type": "code",
   "execution_count": 230,
   "metadata": {},
   "outputs": [],
   "source": [
    "#https://docs.eyesopen.com/toolkits/python/oechemtk/oemol.html\n",
    "ifs = oechem.oemolistream()\n",
    "#ifs.SetConfTest(oechem.OEAbsCanonicalConfTest())\n",
    "ifs.SetConfTest(oechem.OEAbsoluteConfTest(False)) # false means confs may have diff titles\n",
    "if not ifs.open(outfile):\n",
    "    raise FileNotFoundError(f\"Unable to open {outfile} for reading\")\n",
    "mols = ifs.GetOEMols()"
   ]
  },
  {
   "cell_type": "code",
   "execution_count": 231,
   "metadata": {},
   "outputs": [
    {
     "name": "stdout",
     "output_type": "stream",
     "text": [
      "0 10 full_1 C[NH2+]CC(c1ccc(c(c1)O)O)O\n",
      "0 10 full_2 C[NH2+]CC(c1ccc(c(c1)O)O)O\n",
      "0 10 full_3 C[NH2+]CC(c1ccc(c(c1)O)O)O\n",
      "0 10 full_4 C[NH2+]CC(c1ccc(c(c1)O)O)O\n",
      "0 10 full_5 C[NH2+]CC(c1ccc(c(c1)O)O)O\n",
      "0 10 full_6 C[NH2+]CC(c1ccc(c(c1)O)O)O\n",
      "0 10 full_7 C[NH2+]CC(c1ccc(c(c1)O)O)O\n",
      "0 10 full_8 C[NH2+]CC(c1ccc(c(c1)O)O)O\n",
      "0 10 full_9 C[NH2+]CC(c1ccc(c(c1)O)O)O\n",
      "0 10 full_10 C[NH2+]CC(c1ccc(c(c1)O)O)O\n",
      "1 1 full_14 CON=C1C[NH+](CC1CN)c2c(cc3c(=O)c(cn(c3n2)C4CC4)C(=O)[O-])F\n",
      "2 1 full_16 CON=C1CN(CC1C[NH3+])c2c(cc3c(=O)c(cn(c3n2)C4CC4)C(=O)[O-])F\n",
      "3 1 full_17 CON=C1CN(CC1CN)c2c(cc3c(=O)c(cn(c3n2)C4CC4)C(=O)O)F\n",
      "4 3 full_18 c1cc(ccc1C2C[NH2+]CCc3c2cc(c(c3Cl)O)O)O\n",
      "4 3 full_19 c1cc(ccc1C2C[NH2+]CCc3c2cc(c(c3Cl)O)O)O\n",
      "4 3 full_20 c1cc(ccc1C2C[NH2+]CCc3c2cc(c(c3Cl)O)O)O\n"
     ]
    }
   ],
   "source": [
    "for i, mol in enumerate(mols):\n",
    "    for j, conf in enumerate(mol.GetConfs()):\n",
    "        print(i, mol.NumConfs(), conf.GetTitle(), oechem.OEMolToSmiles(conf))"
   ]
  },
  {
   "cell_type": "markdown",
   "metadata": {},
   "source": [
    "## Look into inconsistent SMILES strings after conversion"
   ]
  },
  {
   "cell_type": "code",
   "execution_count": 229,
   "metadata": {},
   "outputs": [
    {
     "name": "stdout",
     "output_type": "stream",
     "text": [
      "RecordStatusEnum.complete\n"
     ]
    },
    {
     "data": {
      "application/3dmoljs_load.v0": "<div id=\"3dmolviewer_15728938265248003\"  style=\"position: relative; width: 400px; height: 400px\">\n        <p id=\"3dmolwarning_15728938265248003\" style=\"background-color:#ffcccc;color:black\">You appear to be running in JupyterLab (or JavaScript failed to load for some other reason).  You need to install the 3dmol extension: <br>\n        <tt>jupyter labextension install jupyterlab_3dmol</tt></p>\n        </div>\n<script>\n\nvar loadScriptAsync = function(uri){\n  return new Promise((resolve, reject) => {\n    var tag = document.createElement('script');\n    tag.src = uri;\n    tag.async = true;\n    tag.onload = () => {\n      resolve();\n    };\n  var firstScriptTag = document.getElementsByTagName('script')[0];\n  firstScriptTag.parentNode.insertBefore(tag, firstScriptTag);\n});\n};\n\nif(typeof $3Dmolpromise === 'undefined') {\n$3Dmolpromise = null;\n  $3Dmolpromise = loadScriptAsync('https://3dmol.csb.pitt.edu/build/3Dmol.js');\n}\n\nvar viewer_15728938265248003 = null;\nvar warn = document.getElementById(\"3dmolwarning_15728938265248003\");\nif(warn) {\n    warn.parentNode.removeChild(warn);\n}\n$3Dmolpromise.then(function() {\nviewer_15728938265248003 = $3Dmol.createViewer($(\"#3dmolviewer_15728938265248003\"),{backgroundColor:\"white\"});\n\tviewer_15728938265248003.addModel(\"48\\nC18FH20N5O4\\nC                     1.520536307680     3.330722723466     3.865294372169\\nC                     0.061365604055     6.465952288081     1.603441806165\\nC                     1.010614172367     4.401577165993     3.132244495006\\nC                     0.681444811871     6.829720528951     2.758135978556\\nC                     1.144795580074     5.792365478313     3.674655024277\\nC                     1.419823910280     2.054265429358     3.335256254422\\nC                     0.401573783192     4.125572324590     1.867117987448\\nC                     0.815209093862     1.896687189398     2.094533713801\\nC                    -0.377386656644    -0.923617214035     0.030039199739\\nC                     0.880625620490     8.353363759971     2.985886051593\\nC                    -0.658286135100     0.144218857498     1.057150031727\\nC                    -2.013361234212     5.662408720704    -0.471558839753\\nC                    -2.066063659360     4.179240164831    -0.179596242629\\nC                     1.604745217364     0.342779493761     0.279697642727\\nC                     1.110629785706    -1.005950337231    -0.260683413350\\nC                    -0.748162162038     4.913979324887    -0.136228550060\\nC                    -3.467914871936    -2.246954024736    -0.756105377927\\nC                     1.767465337324    -2.191469363422     0.478912127136\\nN                     0.322740421092     2.876321617537     1.365436478843\\nN                    -1.234847615425    -1.680246601700    -0.536056801229\\nN                    -0.114540934259     5.158206263738     1.139967359299\\nN                     0.726749130902     0.553757912212     1.500650791620\\nN                     1.526108322527    -2.089892598220     1.940379828968\\nO                    -0.138274456624     9.048623235229     2.747061113050\\nO                     1.594089788863     5.951299434915     4.811321451181\\nO                     2.052459080834     8.654575471879     3.298553348650\\nO                    -2.522193313364    -1.411595657970    -0.066556359492\\nF                     1.895696040137     0.950395245253     3.982785586230\\nH                     1.979986454637     3.532845102958     4.829848823545\\nH                    -0.358753620273     7.233532358117     0.964617501371\\nH                    -1.143712327748     1.022000176154     0.624504155215\\nH                    -1.234482694748    -0.201569712770     1.916782223629\\nH                    -2.130690665460     6.001955075708    -1.495617415071\\nH                    -2.416225742769     6.333530454771     0.279481923244\\nH                    -2.492129196433     3.879411713339     0.772667605495\\nH                    -2.229303985126     3.484209742156    -0.998398387813\\nH                     2.647008073989     0.356767574672     0.601012215230\\nH                     1.410954194275     1.175803274118    -0.397368423897\\nH                     1.298103931277    -1.098307032597    -1.332988351081\\nH                    -0.047885734376     4.727015885121    -0.947511916619\\nH                    -4.439605186723    -1.985810002676    -0.334688708360\\nH                    -3.248336966734    -3.303276272232    -0.575940074122\\nH                    -3.452149486083    -2.036603718122    -1.829141166371\\nH                     2.846100082431    -2.158577013862     0.298931098147\\nH                     1.388400229981    -3.128113554963     0.056605977798\\nH                     2.322717766570    -2.445407612244     2.464261217409\\nH                     0.730541149709    -2.667575356581     2.207347959820\\nH                     1.054768663173    -0.178541883858     2.169267747636\\n\",\"xyz\");\n\tviewer_15728938265248003.setStyle({\"stick\": {\"radius\": 0.2}, \"sphere\": {\"scale\": 0.3}});\n\tviewer_15728938265248003.zoomTo();\nviewer_15728938265248003.render();\n});\n</script>",
      "text/html": [
       "<div id=\"3dmolviewer_15728938265248003\"  style=\"position: relative; width: 400px; height: 400px\">\n",
       "        <p id=\"3dmolwarning_15728938265248003\" style=\"background-color:#ffcccc;color:black\">You appear to be running in JupyterLab (or JavaScript failed to load for some other reason).  You need to install the 3dmol extension: <br>\n",
       "        <tt>jupyter labextension install jupyterlab_3dmol</tt></p>\n",
       "        </div>\n",
       "<script>\n",
       "\n",
       "var loadScriptAsync = function(uri){\n",
       "  return new Promise((resolve, reject) => {\n",
       "    var tag = document.createElement('script');\n",
       "    tag.src = uri;\n",
       "    tag.async = true;\n",
       "    tag.onload = () => {\n",
       "      resolve();\n",
       "    };\n",
       "  var firstScriptTag = document.getElementsByTagName('script')[0];\n",
       "  firstScriptTag.parentNode.insertBefore(tag, firstScriptTag);\n",
       "});\n",
       "};\n",
       "\n",
       "if(typeof $3Dmolpromise === 'undefined') {\n",
       "$3Dmolpromise = null;\n",
       "  $3Dmolpromise = loadScriptAsync('https://3dmol.csb.pitt.edu/build/3Dmol.js');\n",
       "}\n",
       "\n",
       "var viewer_15728938265248003 = null;\n",
       "var warn = document.getElementById(\"3dmolwarning_15728938265248003\");\n",
       "if(warn) {\n",
       "    warn.parentNode.removeChild(warn);\n",
       "}\n",
       "$3Dmolpromise.then(function() {\n",
       "viewer_15728938265248003 = $3Dmol.createViewer($(\"#3dmolviewer_15728938265248003\"),{backgroundColor:\"white\"});\n",
       "\tviewer_15728938265248003.addModel(\"48\\nC18FH20N5O4\\nC                     1.520536307680     3.330722723466     3.865294372169\\nC                     0.061365604055     6.465952288081     1.603441806165\\nC                     1.010614172367     4.401577165993     3.132244495006\\nC                     0.681444811871     6.829720528951     2.758135978556\\nC                     1.144795580074     5.792365478313     3.674655024277\\nC                     1.419823910280     2.054265429358     3.335256254422\\nC                     0.401573783192     4.125572324590     1.867117987448\\nC                     0.815209093862     1.896687189398     2.094533713801\\nC                    -0.377386656644    -0.923617214035     0.030039199739\\nC                     0.880625620490     8.353363759971     2.985886051593\\nC                    -0.658286135100     0.144218857498     1.057150031727\\nC                    -2.013361234212     5.662408720704    -0.471558839753\\nC                    -2.066063659360     4.179240164831    -0.179596242629\\nC                     1.604745217364     0.342779493761     0.279697642727\\nC                     1.110629785706    -1.005950337231    -0.260683413350\\nC                    -0.748162162038     4.913979324887    -0.136228550060\\nC                    -3.467914871936    -2.246954024736    -0.756105377927\\nC                     1.767465337324    -2.191469363422     0.478912127136\\nN                     0.322740421092     2.876321617537     1.365436478843\\nN                    -1.234847615425    -1.680246601700    -0.536056801229\\nN                    -0.114540934259     5.158206263738     1.139967359299\\nN                     0.726749130902     0.553757912212     1.500650791620\\nN                     1.526108322527    -2.089892598220     1.940379828968\\nO                    -0.138274456624     9.048623235229     2.747061113050\\nO                     1.594089788863     5.951299434915     4.811321451181\\nO                     2.052459080834     8.654575471879     3.298553348650\\nO                    -2.522193313364    -1.411595657970    -0.066556359492\\nF                     1.895696040137     0.950395245253     3.982785586230\\nH                     1.979986454637     3.532845102958     4.829848823545\\nH                    -0.358753620273     7.233532358117     0.964617501371\\nH                    -1.143712327748     1.022000176154     0.624504155215\\nH                    -1.234482694748    -0.201569712770     1.916782223629\\nH                    -2.130690665460     6.001955075708    -1.495617415071\\nH                    -2.416225742769     6.333530454771     0.279481923244\\nH                    -2.492129196433     3.879411713339     0.772667605495\\nH                    -2.229303985126     3.484209742156    -0.998398387813\\nH                     2.647008073989     0.356767574672     0.601012215230\\nH                     1.410954194275     1.175803274118    -0.397368423897\\nH                     1.298103931277    -1.098307032597    -1.332988351081\\nH                    -0.047885734376     4.727015885121    -0.947511916619\\nH                    -4.439605186723    -1.985810002676    -0.334688708360\\nH                    -3.248336966734    -3.303276272232    -0.575940074122\\nH                    -3.452149486083    -2.036603718122    -1.829141166371\\nH                     2.846100082431    -2.158577013862     0.298931098147\\nH                     1.388400229981    -3.128113554963     0.056605977798\\nH                     2.322717766570    -2.445407612244     2.464261217409\\nH                     0.730541149709    -2.667575356581     2.207347959820\\nH                     1.054768663173    -0.178541883858     2.169267747636\\n\",\"xyz\");\n",
       "\tviewer_15728938265248003.setStyle({\"stick\": {\"radius\": 0.2}, \"sphere\": {\"scale\": 0.3}});\n",
       "\tviewer_15728938265248003.zoomTo();\n",
       "viewer_15728938265248003.render();\n",
       "});\n",
       "</script>"
      ]
     },
     "metadata": {},
     "output_type": "display_data"
    },
    {
     "data": {
      "text/plain": [
       "<Molecule(name='C18FH20N5O4' formula='C18FH20N5O4' hash='ba9673c')>"
      ]
     },
     "execution_count": 229,
     "metadata": {},
     "output_type": "execute_result"
    }
   ],
   "source": [
    "# check out a single molecule and its final geometry\n",
    "optrec = ds.get_record(name=\"CO/N=C/1\\C[N@](C[C@H]1C[NH3+])c2c(cc3c(=O)c(cn(c3n2)C4CC4)C(=O)[O-])F-3\", specification=\"default\")\n",
    "print(optrec.status)\n",
    "optrec.get_final_molecule()"
   ]
  },
  {
   "cell_type": "code",
   "execution_count": 228,
   "metadata": {},
   "outputs": [
    {
     "name": "stdout",
     "output_type": "stream",
     "text": [
      "RecordStatusEnum.complete\n"
     ]
    },
    {
     "data": {
      "application/3dmoljs_load.v0": "<div id=\"3dmolviewer_1572893821079217\"  style=\"position: relative; width: 400px; height: 400px\">\n        <p id=\"3dmolwarning_1572893821079217\" style=\"background-color:#ffcccc;color:black\">You appear to be running in JupyterLab (or JavaScript failed to load for some other reason).  You need to install the 3dmol extension: <br>\n        <tt>jupyter labextension install jupyterlab_3dmol</tt></p>\n        </div>\n<script>\n\nvar loadScriptAsync = function(uri){\n  return new Promise((resolve, reject) => {\n    var tag = document.createElement('script');\n    tag.src = uri;\n    tag.async = true;\n    tag.onload = () => {\n      resolve();\n    };\n  var firstScriptTag = document.getElementsByTagName('script')[0];\n  firstScriptTag.parentNode.insertBefore(tag, firstScriptTag);\n});\n};\n\nif(typeof $3Dmolpromise === 'undefined') {\n$3Dmolpromise = null;\n  $3Dmolpromise = loadScriptAsync('https://3dmol.csb.pitt.edu/build/3Dmol.js');\n}\n\nvar viewer_1572893821079217 = null;\nvar warn = document.getElementById(\"3dmolwarning_1572893821079217\");\nif(warn) {\n    warn.parentNode.removeChild(warn);\n}\n$3Dmolpromise.then(function() {\nviewer_1572893821079217 = $3Dmol.createViewer($(\"#3dmolviewer_1572893821079217\"),{backgroundColor:\"white\"});\n\tviewer_1572893821079217.addModel(\"48\\nC18FH20N5O4\\nC                    -0.682743325116     3.773093915521     3.014165465941\\nC                     1.085768443069     6.846068359635     0.823473257400\\nC                    -0.124664899365     4.857418718452     2.303723710945\\nC                     0.387184501641     7.229919251555     1.940222886634\\nC                    -0.284414662119     6.236979449574     2.759591956974\\nC                    -0.488699606074     2.500268752328     2.548325088882\\nC                     0.618948696280     4.537765597175     1.152898000207\\nC                     0.254957483120     2.261844027049     1.353285213445\\nC                     0.297300589378     0.464348613925    -1.408611443115\\nC                     0.352819598530     8.697851986133     2.252685200660\\nC                     1.292985427114     0.826709287590    -0.333008146559\\nC                     1.874252191772     6.091300960415    -2.014575000282\\nC                     1.230182515544     4.721298116998    -2.009935993691\\nC                    -0.672069648833     0.040337852380     0.737618130394\\nC                    -1.002922052282     0.000500698804    -0.778042392505\\nC                     1.958366036569     5.215951597979    -0.789460129308\\nC                     1.794818192461     1.192527325185    -4.431588871883\\nC                    -2.204309809999     0.886403398484    -1.197485560212\\nN                     0.800229813813     3.292124349391     0.704670630813\\nN                     0.432340120489     0.578583166209    -2.673076274201\\nN                     1.198866127881     5.560674386950     0.400561303164\\nN                     0.464277289248     0.985288207788     0.871954274776\\nN                    -2.129014494683     2.312135590572    -0.877675196040\\nO                    -0.341152043801     9.041104315508     3.346992842087\\nO                    -0.948973484988     6.520152382519     3.785920557072\\nO                     0.918309666379     9.523636109525     1.555875002530\\nO                     1.713230501496     1.069576476062    -3.008113775573\\nF                    -0.974576692668     1.443535812893     3.249410565232\\nH                    -1.238098030338     3.960431331149     3.928144445914\\nH                     1.582291139542     7.599777547970     0.223400169780\\nH                     2.006589560241     0.006208634484    -0.181363080627\\nH                     1.846743492796     1.732321463316    -0.564213036988\\nH                     2.792825905523     6.244978562229    -2.571883145510\\nH                     1.211279422464     6.950266457023    -1.992637358255\\nH                     0.146499691661     4.694574651424    -1.954302155445\\nH                     1.680441143393     3.902222935621    -2.561568571931\\nH                    -1.517838413462     0.353660038670     1.345569607656\\nH                    -0.351993439625    -0.944159643215     1.091793910171\\nH                    -1.223967251057    -1.026615526503    -1.089507207750\\nH                     2.912816482144     4.750723347222    -0.561930841592\\nH                     2.796273193597     1.578162362159    -4.634553622222\\nH                     1.039738760040     1.891856397855    -4.806314118012\\nH                     1.664942258530     0.217874696005    -4.913056007726\\nH                    -3.114667816121     0.483524566702    -0.739902642213\\nH                    -2.321124634285     0.788516411428    -2.280975687863\\nH                    -2.153463028317     2.470436200266     0.127063003942\\nH                    -0.719699654672     8.212652932037     3.756671686489\\nH                    -1.257154488528     2.710757452054    -1.221164630700\\n\",\"xyz\");\n\tviewer_1572893821079217.setStyle({\"stick\": {\"radius\": 0.2}, \"sphere\": {\"scale\": 0.3}});\n\tviewer_1572893821079217.zoomTo();\nviewer_1572893821079217.render();\n});\n</script>",
      "text/html": [
       "<div id=\"3dmolviewer_1572893821079217\"  style=\"position: relative; width: 400px; height: 400px\">\n",
       "        <p id=\"3dmolwarning_1572893821079217\" style=\"background-color:#ffcccc;color:black\">You appear to be running in JupyterLab (or JavaScript failed to load for some other reason).  You need to install the 3dmol extension: <br>\n",
       "        <tt>jupyter labextension install jupyterlab_3dmol</tt></p>\n",
       "        </div>\n",
       "<script>\n",
       "\n",
       "var loadScriptAsync = function(uri){\n",
       "  return new Promise((resolve, reject) => {\n",
       "    var tag = document.createElement('script');\n",
       "    tag.src = uri;\n",
       "    tag.async = true;\n",
       "    tag.onload = () => {\n",
       "      resolve();\n",
       "    };\n",
       "  var firstScriptTag = document.getElementsByTagName('script')[0];\n",
       "  firstScriptTag.parentNode.insertBefore(tag, firstScriptTag);\n",
       "});\n",
       "};\n",
       "\n",
       "if(typeof $3Dmolpromise === 'undefined') {\n",
       "$3Dmolpromise = null;\n",
       "  $3Dmolpromise = loadScriptAsync('https://3dmol.csb.pitt.edu/build/3Dmol.js');\n",
       "}\n",
       "\n",
       "var viewer_1572893821079217 = null;\n",
       "var warn = document.getElementById(\"3dmolwarning_1572893821079217\");\n",
       "if(warn) {\n",
       "    warn.parentNode.removeChild(warn);\n",
       "}\n",
       "$3Dmolpromise.then(function() {\n",
       "viewer_1572893821079217 = $3Dmol.createViewer($(\"#3dmolviewer_1572893821079217\"),{backgroundColor:\"white\"});\n",
       "\tviewer_1572893821079217.addModel(\"48\\nC18FH20N5O4\\nC                    -0.682743325116     3.773093915521     3.014165465941\\nC                     1.085768443069     6.846068359635     0.823473257400\\nC                    -0.124664899365     4.857418718452     2.303723710945\\nC                     0.387184501641     7.229919251555     1.940222886634\\nC                    -0.284414662119     6.236979449574     2.759591956974\\nC                    -0.488699606074     2.500268752328     2.548325088882\\nC                     0.618948696280     4.537765597175     1.152898000207\\nC                     0.254957483120     2.261844027049     1.353285213445\\nC                     0.297300589378     0.464348613925    -1.408611443115\\nC                     0.352819598530     8.697851986133     2.252685200660\\nC                     1.292985427114     0.826709287590    -0.333008146559\\nC                     1.874252191772     6.091300960415    -2.014575000282\\nC                     1.230182515544     4.721298116998    -2.009935993691\\nC                    -0.672069648833     0.040337852380     0.737618130394\\nC                    -1.002922052282     0.000500698804    -0.778042392505\\nC                     1.958366036569     5.215951597979    -0.789460129308\\nC                     1.794818192461     1.192527325185    -4.431588871883\\nC                    -2.204309809999     0.886403398484    -1.197485560212\\nN                     0.800229813813     3.292124349391     0.704670630813\\nN                     0.432340120489     0.578583166209    -2.673076274201\\nN                     1.198866127881     5.560674386950     0.400561303164\\nN                     0.464277289248     0.985288207788     0.871954274776\\nN                    -2.129014494683     2.312135590572    -0.877675196040\\nO                    -0.341152043801     9.041104315508     3.346992842087\\nO                    -0.948973484988     6.520152382519     3.785920557072\\nO                     0.918309666379     9.523636109525     1.555875002530\\nO                     1.713230501496     1.069576476062    -3.008113775573\\nF                    -0.974576692668     1.443535812893     3.249410565232\\nH                    -1.238098030338     3.960431331149     3.928144445914\\nH                     1.582291139542     7.599777547970     0.223400169780\\nH                     2.006589560241     0.006208634484    -0.181363080627\\nH                     1.846743492796     1.732321463316    -0.564213036988\\nH                     2.792825905523     6.244978562229    -2.571883145510\\nH                     1.211279422464     6.950266457023    -1.992637358255\\nH                     0.146499691661     4.694574651424    -1.954302155445\\nH                     1.680441143393     3.902222935621    -2.561568571931\\nH                    -1.517838413462     0.353660038670     1.345569607656\\nH                    -0.351993439625    -0.944159643215     1.091793910171\\nH                    -1.223967251057    -1.026615526503    -1.089507207750\\nH                     2.912816482144     4.750723347222    -0.561930841592\\nH                     2.796273193597     1.578162362159    -4.634553622222\\nH                     1.039738760040     1.891856397855    -4.806314118012\\nH                     1.664942258530     0.217874696005    -4.913056007726\\nH                    -3.114667816121     0.483524566702    -0.739902642213\\nH                    -2.321124634285     0.788516411428    -2.280975687863\\nH                    -2.153463028317     2.470436200266     0.127063003942\\nH                    -0.719699654672     8.212652932037     3.756671686489\\nH                    -1.257154488528     2.710757452054    -1.221164630700\\n\",\"xyz\");\n",
       "\tviewer_1572893821079217.setStyle({\"stick\": {\"radius\": 0.2}, \"sphere\": {\"scale\": 0.3}});\n",
       "\tviewer_1572893821079217.zoomTo();\n",
       "viewer_1572893821079217.render();\n",
       "});\n",
       "</script>"
      ]
     },
     "metadata": {},
     "output_type": "display_data"
    },
    {
     "data": {
      "text/plain": [
       "<Molecule(name='C18FH20N5O4' formula='C18FH20N5O4' hash='550ce40')>"
      ]
     },
     "execution_count": 228,
     "metadata": {},
     "output_type": "execute_result"
    }
   ],
   "source": [
    "# check out a single molecule and its final geometry\n",
    "optrec = ds.get_record(name=\"CO/N=C/1\\C[N@](C[C@H]1C[NH3+])c2c(cc3c(=O)c(cn(c3n2)C4CC4)C(=O)[O-])F-6\", specification=\"default\")\n",
    "print(optrec.status)\n",
    "optrec.get_final_molecule()"
   ]
  },
  {
   "cell_type": "markdown",
   "metadata": {},
   "source": [
    "## Write out the whole set\n",
    "\n",
    "This took about 5.5 hours"
   ]
  },
  {
   "cell_type": "code",
   "execution_count": 11,
   "metadata": {},
   "outputs": [],
   "source": [
    "# open an outstream file\n",
    "outfile = 'whole.sdf'\n",
    "ofs = oechem.oemolostream()\n",
    "#if os.path.exists(outfile):\n",
    "#    raise FileExistsError(\"Output file {} already exists in {}\".format(\n",
    "#        outfile, os.getcwd()))\n",
    "if not ofs.open(outfile):\n",
    "    oechem.OEThrow.Fatal(\"Unable to open %s for writing\" % outfile)"
   ]
  },
  {
   "cell_type": "code",
   "execution_count": 12,
   "metadata": {
    "scrolled": true
   },
   "outputs": [
    {
     "name": "stdout",
     "output_type": "stream",
     "text": [
      "0\n",
      "100\n",
      "200\n",
      "300\n",
      "400\n",
      "500\n",
      "600\n",
      "700\n",
      "800\n",
      "900\n",
      "1000\n",
      "1100\n",
      "1200\n",
      "1300\n",
      "1400\n",
      "1500\n",
      "1600\n",
      "1700\n",
      "1800\n",
      "1900\n",
      "2000\n",
      "2100\n",
      "2200\n",
      "2300\n",
      "2400\n",
      "2500\n",
      "2600\n",
      "2700\n",
      "2800\n",
      "2900\n",
      "3000\n",
      "3100\n",
      "3200\n",
      "3300\n",
      "3400\n",
      "3500\n",
      "3600\n",
      "3700\n",
      "3800\n",
      "3900\n",
      "4000\n",
      "4100\n",
      "4200\n",
      "4300\n",
      "4400\n",
      "4500\n",
      "4600\n",
      "4700\n",
      "4800\n",
      "4900\n",
      "5000\n",
      "5100\n",
      "5200\n",
      "5300\n",
      "5400\n",
      "5500\n",
      "5600\n",
      "5700\n",
      "5800\n",
      "5900\n",
      "6000\n",
      "6100\n",
      "6200\n",
      "6300\n",
      "6400\n",
      "6500\n",
      "6600\n",
      "6700\n",
      "6800\n",
      "6900\n",
      "7000\n",
      "7100\n",
      "7200\n",
      "7300\n",
      "7400\n",
      "7500\n",
      "7600\n",
      "7700\n",
      "7800\n",
      "7900\n",
      "8000\n",
      "8100\n",
      "8200\n",
      "8300\n",
      "8400\n",
      "8500\n",
      "8600\n",
      "8700\n",
      "8800\n",
      "8900\n",
      "9000\n",
      "9100\n",
      "9200\n",
      "9300\n",
      "9400\n",
      "9500\n",
      "9600\n",
      "9700\n",
      "9800\n",
      "9900\n",
      "10000\n",
      "10100\n",
      "10200\n",
      "10300\n",
      "10400\n",
      "10500\n",
      "10600\n",
      "10700\n",
      "10800\n",
      "10900\n",
      "11000\n",
      "11100\n",
      "11200\n",
      "11300\n",
      "11400\n",
      "11500\n",
      "11600\n",
      "11700\n",
      "11800\n",
      "11900\n",
      "12000\n",
      "12100\n",
      "12200\n",
      "12300\n",
      "12400\n",
      "12500\n",
      "12600\n",
      "12700\n",
      "12800\n",
      "12900\n",
      "13000\n",
      "13100\n",
      "13200\n",
      "13300\n",
      "13400\n",
      "13500\n",
      "13600\n",
      "13700\n",
      "13800\n",
      "13900\n",
      "14000\n",
      "14100\n",
      "14200\n",
      "14300\n",
      "14400\n",
      "14500\n",
      "14600\n",
      "14700\n",
      "14800\n",
      "14900\n",
      "15000\n",
      "15100\n",
      "15200\n",
      "15300\n",
      "15400\n",
      "15500\n",
      "15600\n",
      "15700\n",
      "15800\n",
      "15900\n",
      "16000\n",
      "16100\n",
      "16200\n",
      "16300\n",
      "16400\n",
      "16500\n",
      "16600\n",
      "16700\n",
      "16800\n",
      "16900\n",
      "17000\n",
      "17100\n",
      "17200\n",
      "17300\n",
      "17400\n",
      "17500\n",
      "17600\n",
      "17700\n",
      "17800\n",
      "17900\n",
      "18000\n",
      "18100\n",
      "18200\n",
      "18300\n",
      "18400\n",
      "18500\n",
      "18600\n",
      "18700\n",
      "18800\n",
      "18900\n",
      "19000\n",
      "19100\n",
      "19200\n",
      "19300\n",
      "19400\n",
      "19500\n",
      "19600\n",
      "19700\n",
      "19800\n",
      "19900\n",
      "20000\n",
      "20100\n",
      "20200\n",
      "20300\n",
      "20400\n",
      "20500\n",
      "20600\n",
      "20700\n",
      "20800\n",
      "20900\n",
      "21000\n",
      "21100\n",
      "21200\n",
      "21300\n",
      "21400\n",
      "21500\n",
      "21600\n",
      "21700\n",
      "21800\n",
      "21900\n",
      "22000\n",
      "22100\n",
      "22200\n",
      "22300\n",
      "22400\n",
      "22500\n",
      "22600\n",
      "22700\n",
      "22800\n",
      "22900\n",
      "23000\n",
      "23100\n",
      "23200\n",
      "23300\n",
      "23400\n",
      "23500\n",
      "23600\n",
      "23700\n",
      "23800\n",
      "23900\n",
      "24000\n",
      "24100\n",
      "24200\n",
      "24300\n",
      "24400\n",
      "24500\n",
      "24600\n",
      "24700\n",
      "24800\n",
      "24900\n",
      "25000\n",
      "25100\n",
      "25200\n",
      "25300\n",
      "25400\n",
      "25500\n",
      "25600\n",
      "25700\n",
      "25800\n",
      "25900\n",
      "26000\n",
      "26100\n",
      "26200\n",
      "26300\n",
      "26400\n",
      "26500\n",
      "26600\n",
      "26700\n"
     ]
    }
   ],
   "source": [
    "for i, index in enumerate(ds.df.index):\n",
    "    \n",
    "    # get the record of each entry\n",
    "    record = ds.get_record(name=index, specification=spec)\n",
    "    \n",
    "    if i%100 == 0: \n",
    "        print(i)\n",
    "        \n",
    "    if record.status == \"COMPLETE\":\n",
    "    \n",
    "        # get optimized molecule of the record\n",
    "        qc_mol = record.get_final_molecule()\n",
    "\n",
    "        # convert the qcelemental molecule to an OpenEye molecule\n",
    "        qcjson_mol = qc_mol.dict(encoding='json')\n",
    "        oemol = cmiles.utils.load_molecule(qcjson_mol)\n",
    "\n",
    "        # convert energy from Hartrees to kcal/mol\n",
    "        ene = record.get_final_energy()*qcel.constants.hartree2kcalmol\n",
    "\n",
    "        # add name and energy tag to the mol\n",
    "        oemol.SetTitle(f\"full_{i+1}\")\n",
    "        oechem.OESetSDData(oemol, \"SMILES QCArchive\", index)\n",
    "        oechem.OESetSDData(oemol, \"Energy QCArchive\", str(ene))\n",
    "        \n",
    "        # write molecule to file\n",
    "        oechem.OEWriteConstMolecule(ofs, oemol)\n",
    "\n",
    "ofs.close()"
   ]
  }
 ],
 "metadata": {
  "kernelspec": {
   "display_name": "Python 3",
   "language": "python",
   "name": "python3"
  },
  "language_info": {
   "codemirror_mode": {
    "name": "ipython",
    "version": 3
   },
   "file_extension": ".py",
   "mimetype": "text/x-python",
   "name": "python",
   "nbconvert_exporter": "python",
   "pygments_lexer": "ipython3",
   "version": "3.6.7"
  }
 },
 "nbformat": 4,
 "nbformat_minor": 2
}
