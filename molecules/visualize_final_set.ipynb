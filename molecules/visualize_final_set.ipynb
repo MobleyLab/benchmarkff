{
 "cells": [
  {
   "cell_type": "markdown",
   "metadata": {},
   "source": [
    "# Visualize molecules which were included in benchmark\n",
    "\n",
    "(Author: David L. Mobley)\n",
    "\n",
    "The directory `set_v03_non_redundant` contains molecules used in the final benchmarking of OpenFF 1.2/OPLS3e as for our paper in this area, after removal of failures, and molecules which were in the OpenFF 1.2 training set. This generates a visualization of the final set of molecules.\n",
    "\n",
    "## Grab list of molecules"
   ]
  },
  {
   "cell_type": "code",
   "execution_count": 2,
   "metadata": {},
   "outputs": [
    {
     "name": "stdout",
     "output_type": "stream",
     "text": [
      "Obtained 3271 molecules\n"
     ]
    }
   ],
   "source": [
    "from openeye import oechem\n",
    "\n",
    "\n",
    "full_set_smiles = set()\n",
    "ifile = 'set_v03_non_redundant/trim3_full_qcarchive.smi'\n",
    "file = open(ifile, 'r')\n",
    "text = file.readlines()\n",
    "file.close()\n",
    "\n",
    "#Make into canonical isomeric SMILES, unique\n",
    "for line in text:\n",
    "    smi = line.strip()\n",
    "    #print(smi)\n",
    "    mol = oechem.OEMol()\n",
    "    oechem.OESmilesToMol(mol, smi)\n",
    "    if mol.NumAtoms()>0:\n",
    "        oechem.OEAssignAromaticFlags(mol)\n",
    "        full_set_smiles.add(oechem.OEMolToSmiles(mol))\n",
    "\n",
    "print(\"Obtained %s molecules\" % len(full_set_smiles))"
   ]
  },
  {
   "cell_type": "markdown",
   "metadata": {},
   "source": [
    "## Store set PDFS"
   ]
  },
  {
   "cell_type": "code",
   "execution_count": 3,
   "metadata": {},
   "outputs": [
    {
     "data": {
      "text/plain": [
       "True"
      ]
     },
     "execution_count": 3,
     "metadata": {},
     "output_type": "execute_result"
    }
   ],
   "source": [
    "# Generate PDF files visualizing the molecules\n",
    "\n",
    "from openeye import oedepict\n",
    "import shutil\n",
    "import os\n",
    "if os.path.isdir('molecule_PDFs'): shutil.rmtree('molecule_PDFs')\n",
    "os.mkdir('molecule_PDFs')\n",
    "\n",
    "\n",
    "oemols = []\n",
    "for smi in full_set_smiles:\n",
    "    mol = oechem.OEMol()\n",
    "    oechem.OESmilesToMol(mol, smi)\n",
    "    oemols.append(mol)\n",
    "\n",
    "itf = oechem.OEInterface()\n",
    "PageByPage = True\n",
    "suppress_h = True\n",
    "rows = 10\n",
    "cols = 6\n",
    "ropts = oedepict.OEReportOptions(rows, cols)\n",
    "ropts.SetHeaderHeight(25)\n",
    "ropts.SetFooterHeight(25)\n",
    "ropts.SetCellGap(2)\n",
    "ropts.SetPageMargins(10)\n",
    "report = oedepict.OEReport(ropts)\n",
    "cellwidth, cellheight = report.GetCellWidth(), report.GetCellHeight()\n",
    "opts = oedepict.OE2DMolDisplayOptions(cellwidth, cellheight, oedepict.OEScale_Default * 0.5)\n",
    "opts.SetAromaticStyle(oedepict.OEAromaticStyle_Circle)\n",
    "pen = oedepict.OEPen(oechem.OEBlack, oechem.OEBlack, oedepict.OEFill_On, 1.0)\n",
    "opts.SetDefaultBondPen(pen)\n",
    "oedepict.OESetup2DMolDisplayOptions(opts, itf)\n",
    "for i, mol in enumerate(oemols):\n",
    "    cell = report.NewCell()\n",
    "    mol_copy = oechem.OEMol(mol)\n",
    "    oedepict.OEPrepareDepiction(mol_copy, False, suppress_h)\n",
    "    disp = oedepict.OE2DMolDisplay(mol_copy, opts)\n",
    "\n",
    "    oedepict.OERenderMolecule(cell, disp)\n",
    "\n",
    "oedepict.OEWriteReport(\"molecule_PDFs/molecules.pdf\" , report)"
   ]
  },
  {
   "cell_type": "code",
   "execution_count": null,
   "metadata": {},
   "outputs": [],
   "source": []
  }
 ],
 "metadata": {
  "kernelspec": {
   "display_name": "Python (drugcomp)",
   "language": "python",
   "name": "drugcomp"
  },
  "language_info": {
   "codemirror_mode": {
    "name": "ipython",
    "version": 3
   },
   "file_extension": ".py",
   "mimetype": "text/x-python",
   "name": "python",
   "nbconvert_exporter": "python",
   "pygments_lexer": "ipython3",
   "version": "3.7.6"
  },
  "toc": {
   "nav_menu": {},
   "number_sections": true,
   "sideBar": true,
   "skip_h1_title": false,
   "toc_cell": false,
   "toc_position": {},
   "toc_section_display": "block",
   "toc_window_display": false
  }
 },
 "nbformat": 4,
 "nbformat_minor": 4
}
