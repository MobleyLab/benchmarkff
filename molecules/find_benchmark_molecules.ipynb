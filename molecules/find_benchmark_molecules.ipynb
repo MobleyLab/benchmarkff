{
 "cells": [
  {
   "cell_type": "markdown",
   "metadata": {},
   "source": [
    "# Collect set of molecules which were included in benchmark\n",
    "\n",
    "(Author: David L. Mobley)\n",
    "\n",
    "As I understand it, this directory contains molecules which are in our full benchmark set, in `set`, as well as molecules which were removed from that due to various failures (in the `issues` directory). We would like to know how many final molecules are in the final set, which is not currently info available in this repo. Here, I will attempt to build an authoritative list of only those molecules in the full final set.\n",
    "\n",
    "## Grab list of initial molecules"
   ]
  },
  {
   "cell_type": "code",
   "execution_count": 14,
   "metadata": {},
   "outputs": [
    {
     "name": "stdout",
     "output_type": "stream",
     "text": [
      "Obtained 3859 molecules\n"
     ]
    }
   ],
   "source": [
    "from openeye import oechem\n",
    "\n",
    "\n",
    "full_set_smiles = set()\n",
    "ifile = 'set/full_opt_benchmark1.smi'\n",
    "file = open(ifile, 'r')\n",
    "text = file.readlines()\n",
    "file.close()\n",
    "\n",
    "# Read SMILES strings\n",
    "init_smiles = set()\n",
    "for line in text:\n",
    "    # Store line less trailing index/conformer number thingie\n",
    "    idx = -1\n",
    "    line = line.strip()\n",
    "    while line[idx].isdigit():\n",
    "        idx-=1\n",
    "        #print(idx)\n",
    "    smi = line[:idx]\n",
    "    #print(line, smi)\n",
    "    init_smiles.add(smi)\n",
    "\n",
    "#Make into canonical isomeric SMILES, unique\n",
    "for smi in list(init_smiles):\n",
    "    #print(smi)\n",
    "    mol = oechem.OEMol()\n",
    "    oechem.OESmilesToMol(mol, smi)\n",
    "    if mol.NumAtoms()>0:\n",
    "        oechem.OEAssignAromaticFlags(mol)\n",
    "        full_set_smiles.add(oechem.OEMolToSmiles(mol))\n",
    "\n",
    "print(\"Obtained %s molecules\" % len(full_set_smiles))"
   ]
  },
  {
   "cell_type": "markdown",
   "metadata": {},
   "source": [
    "## Obtain and remove those molecules which were cleaned out by various things"
   ]
  },
  {
   "cell_type": "code",
   "execution_count": 15,
   "metadata": {},
   "outputs": [
    {
     "name": "stdout",
     "output_type": "stream",
     "text": [
      "121\n"
     ]
    }
   ],
   "source": [
    "import glob\n",
    "sdffiles = glob.glob('issues/*/*.sdf')\n",
    "\n",
    "removed_smiles = set()\n",
    "for filename in sdffiles:\n",
    "    istream = oechem.oemolistream(filename)\n",
    "    mols = istream.GetOEMols()\n",
    "    for mol in mols:\n",
    "        oechem.OEAssignAromaticFlags(mol)\n",
    "        smi = oechem.OEMolToSmiles(mol)\n",
    "        removed_smiles.add(smi)\n",
    "        \n",
    "print(len(removed_smiles))"
   ]
  },
  {
   "cell_type": "code",
   "execution_count": 16,
   "metadata": {},
   "outputs": [
    {
     "name": "stdout",
     "output_type": "stream",
     "text": [
      "Final number of molecules 3806\n"
     ]
    }
   ],
   "source": [
    "for item in removed_smiles:\n",
    "    if item in full_set_smiles:\n",
    "        full_set_smiles.remove(item)\n",
    "    \n",
    "print(\"Final number of molecules %s\" % len(full_set_smiles))"
   ]
  },
  {
   "cell_type": "markdown",
   "metadata": {},
   "source": [
    "It seems slightly odd that I'm claiming to have removed 121 molecules but some of these are not in the set. It's possible I'm having some kind of canonicalization issue."
   ]
  },
  {
   "cell_type": "code",
   "execution_count": 17,
   "metadata": {},
   "outputs": [
    {
     "name": "stdout",
     "output_type": "stream",
     "text": [
      "419\n",
      "Final number of molecules 3574\n"
     ]
    }
   ],
   "source": [
    "## Obtain and remove molecules which were in OpenFF 1.2 training set\n",
    "smifiles = glob.glob('overlapping-set/*.smi')\n",
    "\n",
    "removed_smiles = set()\n",
    "for filename in smifiles:\n",
    "    istream = oechem.oemolistream(filename)\n",
    "    mols = istream.GetOEMols()\n",
    "    for mol in mols:\n",
    "        oechem.OEAssignAromaticFlags(mol)\n",
    "        smi = oechem.OEMolToSmiles(mol)\n",
    "        removed_smiles.add(smi)\n",
    "        \n",
    "print(len(removed_smiles))\n",
    "\n",
    "for item in removed_smiles:\n",
    "    if item in full_set_smiles:\n",
    "        full_set_smiles.remove(item)\n",
    "    \n",
    "print(\"Final number of molecules %s\" % len(full_set_smiles))"
   ]
  },
  {
   "cell_type": "markdown",
   "metadata": {},
   "source": [
    "This is also odd; I seem to be having the same canonicalization issue as above where it's not removing the number of molecules I expect to have removed. "
   ]
  },
  {
   "cell_type": "markdown",
   "metadata": {},
   "source": [
    "## Store set PDFS"
   ]
  },
  {
   "cell_type": "code",
   "execution_count": 18,
   "metadata": {},
   "outputs": [
    {
     "data": {
      "text/plain": [
       "True"
      ]
     },
     "execution_count": 18,
     "metadata": {},
     "output_type": "execute_result"
    }
   ],
   "source": [
    "# Generate PDF files visualizing the molecules\n",
    "\n",
    "from openeye import oedepict\n",
    "import shutil\n",
    "import os\n",
    "if os.path.isdir('molecule_PDFs'): shutil.rmtree('molecule_PDFs')\n",
    "os.mkdir('molecule_PDFs')\n",
    "\n",
    "\n",
    "oemols = []\n",
    "for smi in full_set_smiles:\n",
    "    mol = oechem.OEMol()\n",
    "    oechem.OESmilesToMol(mol, smi)\n",
    "    oemols.append(mol)\n",
    "\n",
    "itf = oechem.OEInterface()\n",
    "PageByPage = True\n",
    "suppress_h = True\n",
    "rows = 10\n",
    "cols = 6\n",
    "ropts = oedepict.OEReportOptions(rows, cols)\n",
    "ropts.SetHeaderHeight(25)\n",
    "ropts.SetFooterHeight(25)\n",
    "ropts.SetCellGap(2)\n",
    "ropts.SetPageMargins(10)\n",
    "report = oedepict.OEReport(ropts)\n",
    "cellwidth, cellheight = report.GetCellWidth(), report.GetCellHeight()\n",
    "opts = oedepict.OE2DMolDisplayOptions(cellwidth, cellheight, oedepict.OEScale_Default * 0.5)\n",
    "opts.SetAromaticStyle(oedepict.OEAromaticStyle_Circle)\n",
    "pen = oedepict.OEPen(oechem.OEBlack, oechem.OEBlack, oedepict.OEFill_On, 1.0)\n",
    "opts.SetDefaultBondPen(pen)\n",
    "oedepict.OESetup2DMolDisplayOptions(opts, itf)\n",
    "for i, mol in enumerate(oemols):\n",
    "    cell = report.NewCell()\n",
    "    mol_copy = oechem.OEMol(mol)\n",
    "    oedepict.OEPrepareDepiction(mol_copy, False, suppress_h)\n",
    "    disp = oedepict.OE2DMolDisplay(mol_copy, opts)\n",
    "\n",
    "    oedepict.OERenderMolecule(cell, disp)\n",
    "\n",
    "oedepict.OEWriteReport(\"molecule_PDFs/molecules.pdf\" , report)"
   ]
  },
  {
   "cell_type": "code",
   "execution_count": 20,
   "metadata": {},
   "outputs": [],
   "source": [
    "ofile = oechem.oemolostream('final_set.smi')\n",
    "for mol in oemols:\n",
    "    oechem.OEWriteConstMolecule(ofile, mol)\n",
    "ofile.close()"
   ]
  },
  {
   "cell_type": "code",
   "execution_count": null,
   "metadata": {},
   "outputs": [],
   "source": []
  }
 ],
 "metadata": {
  "kernelspec": {
   "display_name": "Python [conda env:drugcomp]",
   "language": "python",
   "name": "conda-env-drugcomp-py"
  },
  "language_info": {
   "codemirror_mode": {
    "name": "ipython",
    "version": 3
   },
   "file_extension": ".py",
   "mimetype": "text/x-python",
   "name": "python",
   "nbconvert_exporter": "python",
   "pygments_lexer": "ipython3",
   "version": "3.7.6"
  },
  "toc": {
   "nav_menu": {},
   "number_sections": true,
   "sideBar": true,
   "skip_h1_title": false,
   "toc_cell": false,
   "toc_position": {},
   "toc_section_display": "block",
   "toc_window_display": false
  }
 },
 "nbformat": 4,
 "nbformat_minor": 4
}
